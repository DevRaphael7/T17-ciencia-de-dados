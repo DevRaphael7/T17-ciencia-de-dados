{
  "nbformat": 4,
  "nbformat_minor": 0,
  "metadata": {
    "colab": {
      "name": "Untitled0.ipynb",
      "provenance": []
    },
    "kernelspec": {
      "name": "python3",
      "display_name": "Python 3"
    },
    "language_info": {
      "name": "python"
    }
  },
  "cells": [
    {
      "cell_type": "markdown",
      "metadata": {
        "id": "JEu0478lAKIS"
      },
      "source": [
        "# Linear Regression (Regressão Linear)\n",
        "Examina a relação entre duas variáveis.\n",
        "Tem um preditor e uma predição, ou seja, uma variável dependente e uma variável independente (objetivo).\n",
        "\n",
        "O objetivo da regressão linear é \"descobrir\" como certas variáveis estão relacionadas, como uma influencia a outra.\n",
        "\n",
        "![](https://files.realpython.com/media/fig-lin-reg.a506035b654a.png)\n"
      ]
    },
    {
      "cell_type": "code",
      "metadata": {
        "id": "_ml0eWZVAWxE"
      },
      "source": [
        "# Vamos estudar regressão linear partindo de notas de alunos\n",
        "\n",
        "# Estudante\tHoras_de_Estudo\tNota (0-100)\n",
        "#     1\t        1\t          53\n",
        "#     2\t        5\t          74\n",
        "#     3\t        7\t          59\n",
        "#     4\t        8\t          43\n",
        "#     5\t        10\t        56\n",
        "#     6\t        11\t        84\n",
        "#     7\t        14\t        96\n",
        "#     8\t        15\t        69\n",
        "#     9\t        15\t        84\n",
        "#    10\t        19\t        83"
      ],
      "execution_count": null,
      "outputs": []
    },
    {
      "cell_type": "code",
      "metadata": {
        "id": "H0HXXLIWHKiI"
      },
      "source": [
        "import numpy as np\n",
        "from sklearn.linear_model import LinearRegression"
      ],
      "execution_count": 1,
      "outputs": []
    },
    {
      "cell_type": "code",
      "metadata": {
        "colab": {
          "base_uri": "https://localhost:8080/"
        },
        "id": "nqvzB7PFHOdH",
        "outputId": "ff7d844a-d2a3-4883-97fd-5a3a8a0d72ff"
      },
      "source": [
        "horas_estudo = np.array([1,5,7,8,10,11,14,15,15,19]).reshape((-1, 1))\n",
        "horas_estudo"
      ],
      "execution_count": 4,
      "outputs": [
        {
          "output_type": "execute_result",
          "data": {
            "text/plain": [
              "array([[ 1],\n",
              "       [ 5],\n",
              "       [ 7],\n",
              "       [ 8],\n",
              "       [10],\n",
              "       [11],\n",
              "       [14],\n",
              "       [15],\n",
              "       [15],\n",
              "       [19]])"
            ]
          },
          "metadata": {
            "tags": []
          },
          "execution_count": 4
        }
      ]
    },
    {
      "cell_type": "code",
      "metadata": {
        "colab": {
          "base_uri": "https://localhost:8080/"
        },
        "id": "hl7wyLB6KR2J",
        "outputId": "d0e7a925-6e22-41ba-993a-017875c2fc90"
      },
      "source": [
        "notas = np.array([53,74,59,43,56,84,96,69,84,83]).reshape((-1, 1))\n",
        "notas"
      ],
      "execution_count": 5,
      "outputs": [
        {
          "output_type": "execute_result",
          "data": {
            "text/plain": [
              "array([[53],\n",
              "       [74],\n",
              "       [59],\n",
              "       [43],\n",
              "       [56],\n",
              "       [84],\n",
              "       [96],\n",
              "       [69],\n",
              "       [84],\n",
              "       [83]])"
            ]
          },
          "metadata": {
            "tags": []
          },
          "execution_count": 5
        }
      ]
    },
    {
      "cell_type": "code",
      "metadata": {
        "id": "tr-YMS8SLRsq"
      },
      "source": [
        "# criando o modelo de regressão\n",
        "modelo = LinearRegression()"
      ],
      "execution_count": 6,
      "outputs": []
    },
    {
      "cell_type": "code",
      "metadata": {
        "colab": {
          "base_uri": "https://localhost:8080/"
        },
        "id": "oRVuMYLVLdH7",
        "outputId": "697c3e57-e054-4b53-cade-2319e834fe28"
      },
      "source": [
        "# agora vamos treinar nosso modelo - fit()\n",
        "modelo.fit(horas_estudo, notas)"
      ],
      "execution_count": 7,
      "outputs": [
        {
          "output_type": "execute_result",
          "data": {
            "text/plain": [
              "LinearRegression(copy_X=True, fit_intercept=True, n_jobs=None, normalize=False)"
            ]
          },
          "metadata": {
            "tags": []
          },
          "execution_count": 7
        }
      ]
    },
    {
      "cell_type": "code",
      "metadata": {
        "id": "TGFJ3r4oLzSF"
      },
      "source": [
        "# Avaliando os resultados\n",
        "# Intercept: mostra o ponto onde a regressão \"estimada\" \n",
        "# cruza o eixo y, quando x=0\n",
        "\n",
        "# Slop: representa o quanto o valor vai aumentar ou diminuir \n",
        "# a resposta da predição"
      ],
      "execution_count": 8,
      "outputs": []
    },
    {
      "cell_type": "code",
      "metadata": {
        "colab": {
          "base_uri": "https://localhost:8080/"
        },
        "id": "fY46Zz_-NgTg",
        "outputId": "4758d460-ad6f-4b48-cc6f-38edaa63f6f1"
      },
      "source": [
        "# medir os scores: o quanto o modelo ajustou\n",
        "modelo.score(horas_estudo, notas)"
      ],
      "execution_count": 10,
      "outputs": [
        {
          "output_type": "execute_result",
          "data": {
            "text/plain": [
              "0.39412152258869326"
            ]
          },
          "metadata": {
            "tags": []
          },
          "execution_count": 10
        }
      ]
    },
    {
      "cell_type": "code",
      "metadata": {
        "colab": {
          "base_uri": "https://localhost:8080/"
        },
        "id": "_W_suuIVNtj-",
        "outputId": "5971ca9f-dd3e-47ff-fba4-d7f1a9ba7256"
      },
      "source": [
        "# intercept\n",
        "modelo.intercept_"
      ],
      "execution_count": 11,
      "outputs": [
        {
          "output_type": "execute_result",
          "data": {
            "text/plain": [
              "array([49.47712665])"
            ]
          },
          "metadata": {
            "tags": []
          },
          "execution_count": 11
        }
      ]
    },
    {
      "cell_type": "code",
      "metadata": {
        "colab": {
          "base_uri": "https://localhost:8080/"
        },
        "id": "rrQyFULsN_Jt",
        "outputId": "19950302-9be1-4e7f-bdbb-ce61ef9ecce7"
      },
      "source": [
        "# vamos tentar descobrir quantas horas devo estudar para tirar nota\n",
        "novas_horas = np.array([10]).reshape((-1, 1))\n",
        "\n",
        "# predict é utilizada para fazer a predição \"descoberta\"\n",
        "modelo.predict(novas_horas)"
      ],
      "execution_count": 13,
      "outputs": [
        {
          "output_type": "execute_result",
          "data": {
            "text/plain": [
              "array([[69.11795841]])"
            ]
          },
          "metadata": {
            "tags": []
          },
          "execution_count": 13
        }
      ]
    },
    {
      "cell_type": "code",
      "metadata": {
        "colab": {
          "base_uri": "https://localhost:8080/"
        },
        "id": "3XKlbVgWOuPc",
        "outputId": "cb3fdf61-6635-49bb-9241-ebb62538e05e"
      },
      "source": [
        "# Algumas estatísticas\n",
        "\n",
        "print('Menor:', horas_estudo.min())\n",
        "print('Média:', horas_estudo.mean())\n",
        "print('Maior:', horas_estudo.max())"
      ],
      "execution_count": 14,
      "outputs": [
        {
          "output_type": "stream",
          "text": [
            "Menor: 1\n",
            "Média: 10.5\n",
            "Maior: 19\n"
          ],
          "name": "stdout"
        }
      ]
    },
    {
      "cell_type": "code",
      "metadata": {
        "colab": {
          "base_uri": "https://localhost:8080/",
          "height": 282
        },
        "id": "YhCMPJaiQKCt",
        "outputId": "9727fd60-66e9-4334-8fdb-eb0c274898b9"
      },
      "source": [
        "import matplotlib.pyplot as plt\n",
        "# comportamento das horas de estudo\n",
        "plt.plot(horas_estudo)"
      ],
      "execution_count": 15,
      "outputs": [
        {
          "output_type": "execute_result",
          "data": {
            "text/plain": [
              "[<matplotlib.lines.Line2D at 0x7faa280d7c90>]"
            ]
          },
          "metadata": {
            "tags": []
          },
          "execution_count": 15
        },
        {
          "output_type": "display_data",
          "data": {
            "image/png": "[encoded data removed]",
            "text/plain": [
              "<Figure size 432x288 with 1 Axes>"
            ]
          },
          "metadata": {
            "tags": [],
            "needs_background": "light"
          }
        }
      ]
    },
    {
      "cell_type": "code",
      "metadata": {
        "colab": {
          "base_uri": "https://localhost:8080/",
          "height": 282
        },
        "id": "ccb_fKq9QWXu",
        "outputId": "7bdcce91-a1d6-48c1-a94e-83b72c6efe16"
      },
      "source": [
        "# comportamento das notas\n",
        "plt.plot(notas)"
      ],
      "execution_count": 16,
      "outputs": [
        {
          "output_type": "execute_result",
          "data": {
            "text/plain": [
              "[<matplotlib.lines.Line2D at 0x7faa2788c9d0>]"
            ]
          },
          "metadata": {
            "tags": []
          },
          "execution_count": 16
        },
        {
          "output_type": "display_data",
          "data": {
            "image/png": "[encoded data removed]",
            "text/plain": [
              "<Figure size 432x288 with 1 Axes>"
            ]
          },
          "metadata": {
            "tags": [],
            "needs_background": "light"
          }
        }
      ]
    },
    {
      "cell_type": "code",
      "metadata": {
        "colab": {
          "base_uri": "https://localhost:8080/",
          "height": 282
        },
        "id": "A1Jr-DTLQohL",
        "outputId": "64af9e5b-34ca-4391-cca5-86ba63b3d3dd"
      },
      "source": [
        "# visualizando a dispersão\n",
        "plt.scatter(horas_estudo, notas)\n",
        "plt.plot(horas_estudo, notas, color='blue')\n",
        "# qual é o nome desse fenômeno? R: Underfitting"
      ],
      "execution_count": 20,
      "outputs": [
        {
          "output_type": "execute_result",
          "data": {
            "text/plain": [
              "[<matplotlib.lines.Line2D at 0x7faa26de6bd0>]"
            ]
          },
          "metadata": {
            "tags": []
          },
          "execution_count": 20
        },
        {
          "output_type": "display_data",
          "data": {
            "image/png": "[encoded data removed]",
            "text/plain": [
              "<Figure size 432x288 with 1 Axes>"
            ]
          },
          "metadata": {
            "tags": [],
            "needs_background": "light"
          }
        }
      ]
    },
    {
      "cell_type": "markdown",
      "metadata": {
        "id": "_XHN_7uMSgxX"
      },
      "source": [
        "# Vamos dar um \"Up\" na bagaça"
      ]
    },
    {
      "cell_type": "code",
      "metadata": {
        "id": "cj1WTUx6Q2Ar"
      },
      "source": [
        "import pandas as pd"
      ],
      "execution_count": 21,
      "outputs": []
    },
    {
      "cell_type": "code",
      "metadata": {
        "id": "FAwWrcboSok6"
      },
      "source": [
        "# Criação do DataFrame\n",
        "dataframe = pd.DataFrame()\n",
        "dataframe['x'] = [5.1, 5.5, 5.9, 6.5, 6.8, 7.6, 8.3, 8.5, 9.1, 9.5]  # horas de estudo\n",
        "dataframe['y'] = [2.0, 2.9, 4.0, 5.9, 6.0, 6.9, 8.0, 9.0, 9.9, 11.0] # pontuaçao alcançada\n",
        "x_values = dataframe[['x']]\n",
        "y_values = dataframe[['y']]"
      ],
      "execution_count": 22,
      "outputs": []
    },
    {
      "cell_type": "code",
      "metadata": {
        "colab": {
          "base_uri": "https://localhost:8080/"
        },
        "id": "TwEPLGqOTrLZ",
        "outputId": "6e79f9df-80da-41ac-b819-09b4d7ddc24f"
      },
      "source": [
        "# treinando o modelo\n",
        "from sklearn import linear_model\n",
        "model = linear_model.LinearRegression()\n",
        "model.fit(x_values, y_values)"
      ],
      "execution_count": 26,
      "outputs": [
        {
          "output_type": "execute_result",
          "data": {
            "text/plain": [
              "LinearRegression(copy_X=True, fit_intercept=True, n_jobs=None, normalize=False)"
            ]
          },
          "metadata": {
            "tags": []
          },
          "execution_count": 26
        }
      ]
    },
    {
      "cell_type": "code",
      "metadata": {
        "colab": {
          "base_uri": "https://localhost:8080/"
        },
        "id": "kgBp9qcGTtlG",
        "outputId": "9888871e-6ae3-4564-b00b-85b2b281bff4"
      },
      "source": [
        "# mostrando os valores obtidos\n",
        "print('Utilizando biblioteca Scikit-Learn')\n",
        "print('y = ax + b')\n",
        "print('a = %.2f => a inclinação da linha de tendência.' % model.coef_[0][0])\n",
        "print('b = %.2f => o ponto onde a linha de tendência atinge o eixo y.' % model.intercept_[0])"
      ],
      "execution_count": 27,
      "outputs": [
        {
          "output_type": "stream",
          "text": [
            "Utilizando biblioteca Scikit-Learn\n",
            "y = ax + b\n",
            "a = 1.92 => a inclinação da linha de tendência.\n",
            "b = -7.39 => o ponto onde a linha de tendência atinge o eixo y.\n"
          ],
          "name": "stdout"
        }
      ]
    },
    {
      "cell_type": "code",
      "metadata": {
        "colab": {
          "base_uri": "https://localhost:8080/",
          "height": 265
        },
        "id": "D3Qj86-pUWB8",
        "outputId": "0e426130-9f92-42fe-a287-0aa7d9d4d35e"
      },
      "source": [
        "plt.figure(figsize=(6,4))\n",
        "plt.scatter(dataframe['x'].values, dataframe['y'].values)\n",
        "\n",
        "# traçando a linha da regressão\n",
        "fit = np.polyfit(dataframe['x'].values, dataframe['y'].values, 1)\n",
        "reta = np.poly1d(fit)\n",
        "# plotando um gráfico em cima do outro\n",
        "plt.plot(dataframe['x'].values, reta(dataframe['x'].values), 'r')\n",
        "plt.show()"
      ],
      "execution_count": 35,
      "outputs": [
        {
          "output_type": "display_data",
          "data": {
            "image/png": "[encoded data removed]",
            "text/plain": [
              "<Figure size 432x288 with 1 Axes>"
            ]
          },
          "metadata": {
            "tags": [],
            "needs_background": "light"
          }
        }
      ]
    },
    {
      "cell_type": "code",
      "metadata": {
        "colab": {
          "base_uri": "https://localhost:8080/"
        },
        "id": "2hMwzyKAU8lg",
        "outputId": "b15e2da7-9af9-40f8-e254-8e47d373904e"
      },
      "source": [
        "# predição\n",
        "model.score(x_values, y_values)"
      ],
      "execution_count": 36,
      "outputs": [
        {
          "output_type": "execute_result",
          "data": {
            "text/plain": [
              "0.9820148319118528"
            ]
          },
          "metadata": {
            "tags": []
          },
          "execution_count": 36
        }
      ]
    },
    {
      "cell_type": "code",
      "metadata": {
        "colab": {
          "base_uri": "https://localhost:8080/"
        },
        "id": "nwFDia1UWj1y",
        "outputId": "392b39ec-1101-4d44-abeb-a36f09f91242"
      },
      "source": [
        "horas = 8.8\n",
        "nota = model.predict(np.array([[horas]]))\n",
        "print('Nota:', model.predict([[horas]]))"
      ],
      "execution_count": 52,
      "outputs": [
        {
          "output_type": "stream",
          "text": [
            "Nota: [[9.47225111]]\n"
          ],
          "name": "stdout"
        }
      ]
    },
    {
      "cell_type": "code",
      "metadata": {
        "colab": {
          "base_uri": "https://localhost:8080/",
          "height": 397
        },
        "id": "tA7J8WyuW6iH",
        "outputId": "20b8f434-c89c-4a21-fa95-f32f513cf53d"
      },
      "source": [
        "# gráfico marotão\n",
        "# traçando linhas das coordenadas para mostrar a inferência\n",
        "plt.figure(1, figsize=(8, 6))\n",
        "plt.scatter(dataframe['x'].values, dataframe['y'].values)\n",
        "fit = np.polyfit(dataframe['x'].values, dataframe['y'].values, 1)\n",
        "fit_fn = np.poly1d(fit)\n",
        "\n",
        "txt ='h(θ0, θ1) = ' + str(nota)\n",
        "plt.annotate(\n",
        "    txt, xy=(horas, nota), xytext=(5, 0.9), \n",
        "    arrowprops=dict(arrowstyle=\"->\",connectionstyle=\"arc3\"))\n",
        "\n",
        "plt.plot(dataframe['x'].values, fit_fn(dataframe['x'].values), 'r')\n",
        "plt.axvline(x=horas, ymin=0, ymax=nota, ls='--',c='black')\n",
        "plt.axhline(y=nota, ls='--',c='black')"
      ],
      "execution_count": 53,
      "outputs": [
        {
          "output_type": "execute_result",
          "data": {
            "text/plain": [
              "<matplotlib.lines.Line2D at 0x7faa1e882a90>"
            ]
          },
          "metadata": {
            "tags": []
          },
          "execution_count": 53
        },
        {
          "output_type": "display_data",
          "data": {
            "image/png": "[encoded data removed]",
            "text/plain": [
              "<Figure size 576x432 with 1 Axes>"
            ]
          },
          "metadata": {
            "tags": [],
            "needs_background": "light"
          }
        }
      ]
    },
    {
      "cell_type": "code",
      "metadata": {
        "id": "21kS6G51XSDw"
      },
      "source": [
        ""
      ],
      "execution_count": null,
      "outputs": []
    }
  ]
}