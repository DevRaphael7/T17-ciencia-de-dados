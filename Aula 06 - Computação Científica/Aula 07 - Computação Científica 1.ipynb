{
 "cells": [
  {
   "cell_type": "markdown",
   "metadata": {},
   "source": [
    "## **Aula 7** - Computação Científica 1\n",
    "**Professor**: Prof. Edson Melo de Souza, Me.\n",
    "\n",
    "**Objetivo**: Apresentar os conceitos de Arrays e Matrizes para manipulação de dados com as bibliotecas Numpy e SciPy\n",
    "\n",
    "# Biblioteca NumPy e SciPy"
   ]
  },
  {
   "cell_type": "markdown",
   "metadata": {},
   "source": [
    "<p>O NumPy é uma biblioteca Python que é usada principalmente para realizar cálculos em Arrays Multidimensionais. O NumPy fornece um grande conjunto de funções e operações de biblioteca que ajudam os programadores a executar facilmente cálculos numéricos. Esses tipos de cálculos numéricos são amplamente utilizados em tarefas como:</p>\n",
    "<ul>\n",
    "    <li><strong>Machine Learning</strong>: multiplicação de Arrays, transposição, adição, entre outros. Fornece uma excelente biblioteca para cálculos fáceis (em termos de escrita de código) e rápidos (em termos de velocidade). Os Arrays NumPy são usados para armazenar os dados de treinamento, bem como os parâmetros dos modelos de Machine Learning.</li>\n",
    "    <li><strong>Processamento de Imagens</strong>: Imagens no computador são representadas como Arrays Multidimensionais de números e o NumPy fornece funções para espelhamento de uma imagem, a rotação de uma imagem por um determinado ângulo, casos típicos de utilização para este propósito.</li>\n",
    "    <li><strong>Tarefas Matemáticas</strong>: NumPy é bastante útil para executar várias tarefas matemáticas como integração numérica, diferenciação, interpolação, extrapolação e muitas outras. O NumPy possui também funções incorporadas para álgebra linear e geração de números aleatórios. É uma biblioteca que pode ser usada em conjuto do SciPy e Mat-plotlib. Substituindo o MATLAB quando se trata de tarefas matemáticas.</li>\n",
    "</ul>"
   ]
  },
  {
   "cell_type": "markdown",
   "metadata": {},
   "source": [
    "![Title](aula_05_integracao_numpy_matlab.png)"
   ]
  },
  {
   "cell_type": "markdown",
   "metadata": {},
   "source": [
    "# Arrays NumPy"
   ]
  },
  {
   "cell_type": "markdown",
   "metadata": {},
   "source": [
    "<p>A biblioteca NumPy oferece um tipo de array denominado <strong>ndarray</strong>.</p>\n",
    "<p>Essa Array NumPy é uma tabela de elementos (geralmente números), todos do mesmo tipo, indexados por uma tupla de inteiros positivos.</p>\n",
    "<p>No NumPy, as dimensões são chamadas de <strong>eixos</strong>.</p>\n",
    "<p>Vamos ver um exemplo:</p>"
   ]
  },
  {
   "cell_type": "code",
   "execution_count": null,
   "metadata": {},
   "outputs": [],
   "source": [
    "import numpy as np"
   ]
  },
  {
   "cell_type": "markdown",
   "metadata": {},
   "source": [
    "# Arrays Unidimensionais\n",
    "\n",
    "$$\\left[\\begin{array}{lll}{0} & {0} & {0}\\end{array}\\right]$$"
   ]
  },
  {
   "cell_type": "code",
   "execution_count": null,
   "metadata": {},
   "outputs": [],
   "source": [
    "# criação de um array unidimensional com a NumPy\n",
    "meu_array = np.array([1, 2, 3, 4, 5])\n",
    "type(meu_array) # type(variavel) mostra qual é o tipo do dado\n",
    "print(meu_array)"
   ]
  },
  {
   "cell_type": "code",
   "execution_count": null,
   "metadata": {},
   "outputs": [],
   "source": [
    "# mostrando a quantidade de elementos no array (propriedade shape)\n",
    "meu_array.shape"
   ]
  },
  {
   "cell_type": "code",
   "execution_count": null,
   "metadata": {},
   "outputs": [],
   "source": [
    "# listando os valores no array (por posição)\n",
    "print(meu_array[0])\n",
    "print(meu_array[1])"
   ]
  },
  {
   "cell_type": "code",
   "execution_count": null,
   "metadata": {},
   "outputs": [],
   "source": [
    "# listando por laço de repetição\n",
    "for valor in meu_array:\n",
    "    print(valor)"
   ]
  },
  {
   "cell_type": "code",
   "execution_count": null,
   "metadata": {},
   "outputs": [],
   "source": [
    "# outra forma de listagem (percorrendo com While)\n",
    "posicao = 0\n",
    "while (posicao < len(meu_array)) :\n",
    "    print(meu_array[posicao])\n",
    "    posicao += 1"
   ]
  },
  {
   "cell_type": "code",
   "execution_count": null,
   "metadata": {},
   "outputs": [],
   "source": [
    "# alterando um valor no array\n",
    "print('Valor da posição [0] antes da alteração.:',  meu_array)\n",
    "\n",
    "# atribuindo o valor 0 para posição [0]\n",
    "meu_array[0] = 0 \n",
    "\n",
    "print('Valor da posição [0] depois da alteração:', meu_array)"
   ]
  },
  {
   "cell_type": "code",
   "execution_count": null,
   "metadata": {},
   "outputs": [],
   "source": [
    "# criando um array vazio (preenchido com zeros)\n",
    "meu_array = np.zeros(shape=(5))\n",
    "meu_array"
   ]
  },
  {
   "cell_type": "code",
   "execution_count": null,
   "metadata": {},
   "outputs": [],
   "source": [
    "# criando um array de floats\n",
    "meu_array_float = np.array([], dtype=np.float64)\n",
    "meu_array_float"
   ]
  },
  {
   "cell_type": "code",
   "execution_count": null,
   "metadata": {},
   "outputs": [],
   "source": [
    "# criando um array com valores sequencias utilizando o arange()\n",
    "meu_array = np.arange(10)\n",
    "meu_array"
   ]
  },
  {
   "cell_type": "code",
   "execution_count": null,
   "metadata": {},
   "outputs": [],
   "source": [
    "# atribuindo elementos em sequência para o array\n",
    "meu_array_float = [-1, 0, 1, 2]\n",
    "meu_array_float"
   ]
  },
  {
   "cell_type": "code",
   "execution_count": null,
   "metadata": {},
   "outputs": [],
   "source": [
    "# criando um array com valores aleatórios\n",
    "meu_array_random = np.random.random((15))\n",
    "meu_array_random"
   ]
  },
  {
   "cell_type": "code",
   "execution_count": null,
   "metadata": {},
   "outputs": [],
   "source": [
    "# criando um array com valores aleatórios (dentro de um intervalo) - 0 e 10\n",
    "meu_array_random = np.random.randint(0, 20, size=(10))\n",
    "meu_array_random"
   ]
  },
  {
   "cell_type": "code",
   "execution_count": null,
   "metadata": {},
   "outputs": [],
   "source": [
    "meu_array_random.sort()\n",
    "meu_array_random"
   ]
  },
  {
   "cell_type": "code",
   "execution_count": null,
   "metadata": {},
   "outputs": [],
   "source": [
    "# fatiando um array (removendo o primeiro elemento)\n",
    "meu_array = np.array([3, 2, 8 , 22, 150])\n",
    "meu_array[1:] # meu_array[quantidade a ser removida: o array inteiro]"
   ]
  },
  {
   "cell_type": "markdown",
   "metadata": {},
   "source": [
    "#### Fatiando um Array (*slice*)"
   ]
  },
  {
   "cell_type": "code",
   "execution_count": null,
   "metadata": {},
   "outputs": [],
   "source": [
    "# fatiando e selecionando uma parte do array (o último elemento não entra na contagem)\n",
    "meu_array[2:4]"
   ]
  },
  {
   "cell_type": "markdown",
   "metadata": {},
   "source": [
    "# Arrays Bidimensionais (Matrizes)\n",
    "\n",
    "$$I_3 = \\left[\\begin{array}{lll}{1} & {0} & {0} \\\\ {0} & {1} & {0} \\\\ {0} & {0} & {1} \\end{array}\\right]$$"
   ]
  },
  {
   "cell_type": "markdown",
   "metadata": {},
   "source": [
    "<br>\n",
    "<p align=\"center\" style=\"text-align: center;\">\n",
    "    <img src=\"aula_05_matriz.png\" />\n",
    "</p>"
   ]
  },
  {
   "cell_type": "code",
   "execution_count": null,
   "metadata": {},
   "outputs": [],
   "source": [
    "# criando uma matriz com valores zero\n",
    "minha_matriz = np.zeros([3,3])\n",
    "minha_matriz"
   ]
  },
  {
   "cell_type": "code",
   "execution_count": null,
   "metadata": {},
   "outputs": [],
   "source": [
    "# criando uma matriz com valores um\n",
    "minha_matriz = np.ones([3,2])\n",
    "minha_matriz"
   ]
  },
  {
   "cell_type": "code",
   "execution_count": null,
   "metadata": {},
   "outputs": [],
   "source": [
    "# criando uma matriz com elementos inicializados\n",
    "minha_matriz = np.array([ [1,2], [3,4] ])\n",
    "minha_matriz"
   ]
  },
  {
   "cell_type": "code",
   "execution_count": null,
   "metadata": {},
   "outputs": [],
   "source": [
    "minha_matriz.shape"
   ]
  },
  {
   "cell_type": "code",
   "execution_count": null,
   "metadata": {},
   "outputs": [],
   "source": [
    "# lendo um valor específico na matriz\n",
    "minha_matriz[1][0]"
   ]
  },
  {
   "cell_type": "code",
   "execution_count": null,
   "metadata": {},
   "outputs": [],
   "source": [
    "# pegando o valor de uma coluna\n",
    "minha_matriz[:, 0]"
   ]
  },
  {
   "cell_type": "markdown",
   "metadata": {},
   "source": [
    "#### Fatiando uma Matriz (*slice*)"
   ]
  },
  {
   "cell_type": "code",
   "execution_count": null,
   "metadata": {},
   "outputs": [],
   "source": [
    "M = np.random.randint(1, 10, size = (5, 5)) # int entre 1 e 10\n",
    "M"
   ]
  },
  {
   "cell_type": "code",
   "execution_count": null,
   "metadata": {},
   "outputs": [],
   "source": [
    "fatia = M[1:4, 1:4] # primeiro fatia as linhas, depois as colunas\n",
    "fatia"
   ]
  },
  {
   "cell_type": "markdown",
   "metadata": {},
   "source": [
    "# Manipulação de Arrays com a NumPy"
   ]
  },
  {
   "cell_type": "code",
   "execution_count": null,
   "metadata": {},
   "outputs": [],
   "source": [
    "# declaração da nossa Matriz\n",
    "matriz_a = np.array([[1.0, 2.0], [3.0, 4.0]])\n",
    "matriz_b = np.array([[5.0, 6.0], [7.0, 8.0]])\n",
    "\n",
    "print(matriz_a)\n",
    "print(matriz_b)"
   ]
  },
  {
   "cell_type": "markdown",
   "metadata": {},
   "source": [
    "# Operações (Elemento por Elemento)"
   ]
  },
  {
   "cell_type": "code",
   "execution_count": null,
   "metadata": {},
   "outputs": [],
   "source": [
    "print(matriz_a, '\\n')\n",
    "print(matriz_b)\n",
    "\n",
    "soma = matriz_a + matriz_b # Soma\n",
    "diferenca = matriz_a - matriz_b # Subtração\n",
    "divisao = matriz_a / matriz_b # Divisão\n",
    "produto = matriz_a * matriz_b # Multiplicação\n",
    "\n",
    "print('\\n')\n",
    "print('Soma = \\n', + soma)\n",
    "print('\\n')\n",
    "print('Diferença = \\n', + diferenca)\n",
    "print('\\n')\n",
    "print('Divisão = \\n', + divisao)\n",
    "print('\\n')\n",
    "print('Produto = \\n', + produto)"
   ]
  },
  {
   "cell_type": "markdown",
   "metadata": {},
   "source": [
    "# Multiplicação de Matrizes (Matriz por Matriz)\n",
    "\n",
    "O produto $\\mathbf{AB}$ das matrizes $\\mathbf{A} \\in \\mathbb{R}^{m \\times \\ell}$ e $\\mathbf{B} \\in \\mathbb{R}^{\\ell \\times n}$ consiste em computar o produto entre cada linha da $\\mathbf{A}$ com cada coluna de $\\mathbf{B}$:\n",
    "\n",
    "$$\\mathbf{C}=\\mathbf{A} \\mathbf{B} \\quad \\Leftrightarrow \\quad c_{i j}=\\sum_{k=1}^{\\ell} a_{i k} b_{k j}, \\forall i \\in[1, \\ldots, m], j \\in[1, \\ldots, n].$$\n",
    "\n",
    "$$\\left[\\begin{array}{ll}{a_{11}} & {a_{12}} \\\\ {a_{21}} & {a_{22}} \\\\ {a_{31}} & {a_{32}}\\end{array}\\right]\\left[\\begin{array}{ll}{b_{11}} & {b_{12}} \\\\ {b_{21}} & {b_{22}}\\end{array}\\right]=\\left[\\begin{array}{ll}{a_{11} b_{11}+a_{12} b_{21}} & {a_{11} b_{12}+a_{12} b_{22}} \\\\ {a_{21} b_{11}+a_{22} b_{21}} & {a_{21} b_{12}+a_{22} b_{22}} \\\\ {a_{31} b_{11}+a_{32} b_{21}} & {a_{31} b_{12}+a_{32} b_{22}}\\end{array}\\right] \\in \\mathbb{R}^{3 \\times 2}.$$"
   ]
  },
  {
   "cell_type": "markdown",
   "metadata": {},
   "source": [
    "<p align=\"center\" style=\"text-align: center;\">\n",
    "    <img src=\"aula_05_matrix-multiplication-field-row-the-matrix-png-clip-art.png\" />\n",
    "</p>"
   ]
  },
  {
   "cell_type": "code",
   "execution_count": null,
   "metadata": {},
   "outputs": [],
   "source": [
    "# exemplo correto de multiplicação de matrizes (o método .dot() é o responsável pela multiplicação)\n",
    "print('Multiplicação:\\n', matriz_a.dot(matriz_b))"
   ]
  },
  {
   "cell_type": "markdown",
   "metadata": {},
   "source": [
    "# Concatenando Matrizes"
   ]
  },
  {
   "cell_type": "code",
   "execution_count": null,
   "metadata": {},
   "outputs": [],
   "source": [
    "matriz_a = np.array([ [1.0, 2.0, 8.0, 6.0], [3.0, 4.0, 4.0, 2.0] ])\n",
    "matriz_b = np.array([ [5.0, 6.0, 9.0, 1.0], [7.0, 8.0, 3.0, 5.0] ])\n",
    "matriz_c = np.zeros((1, 4))\n",
    "\n",
    "matriz_resultante = np.concatenate( (matriz_a, matriz_b, matriz_c) )\n",
    "matriz_resultante"
   ]
  },
  {
   "cell_type": "markdown",
   "metadata": {},
   "source": [
    "# Dividindo Matrizes\n",
    "* As linhas das matrizes resultantes devem ter o mesmo número"
   ]
  },
  {
   "cell_type": "code",
   "execution_count": null,
   "metadata": {},
   "outputs": [],
   "source": [
    "# dividindo a matriz_a em duas partes (transformação para vetor, neste caso)\n",
    "matriz_a = np.array([ [1.0, 2.0, 8.0, 6.0], [3.0, 4.0, 4.0, 2.0], [5.0, 6.0, 9.0, 1.0], [7.0, 8.0, 3.0, 5.0] ])\n",
    "\n",
    "matriz_resultante = np.split(matriz_a, 2)\n",
    "matriz_resultante[0], matriz_resultante[1]"
   ]
  },
  {
   "cell_type": "code",
   "execution_count": null,
   "metadata": {},
   "outputs": [],
   "source": [
    "matriz_resultante[1]"
   ]
  },
  {
   "cell_type": "markdown",
   "metadata": {},
   "source": [
    "# Matriz Transposta\n",
    "Uma matriz transposta é aquela onde é realizada a troca das linhas pelas colunas\n",
    "\n",
    "A matriz transposta $\\mathbf{A}^T$ é definida pela fórmula $a{^T}_{ij} = a_{ji}$. Em outras palavras, obtemos a transposição por “virar” a matriz pela sua diagonal:\n",
    "\n",
    "$$^{T}: \\mathbb{R}^{m \\times n} \\rightarrow \\mathbb{R}^{n \\times m}$$\n",
    "\n",
    "$$\\left[\\begin{array}{lll}{\\alpha_{1}} & {\\alpha_{2}} & {\\alpha_{3}} \\\\ {\\beta_{1}} & {\\beta_{2}} & {\\beta_{3}}\\end{array}\\right]^{\\top}=\\left[\\begin{array}{ll}{\\alpha_{1}} & {\\beta_{1}} \\\\ {\\alpha_{2}} & {\\beta_{2}} \\\\ {\\alpha_{3}} & {\\beta_{3}}\\end{array}\\right]$$"
   ]
  },
  {
   "cell_type": "markdown",
   "metadata": {},
   "source": [
    "<br>\n",
    "<p align=\"center\" style=\"text-align: center;\">\n",
    "    <img src=\"aula_05_matriz-transposta.png\" />\n",
    "</p>"
   ]
  },
  {
   "cell_type": "code",
   "execution_count": null,
   "metadata": {},
   "outputs": [],
   "source": [
    "\n",
    "matriz_a = np.array([ [1.0, 2.0, 8.0, 6.0], [3.0, 4.0, 4.0, 2.0] ])\n",
    "matriz_b = np.array([ [5.0, 6.0, 9.0, 1.0], [7.0, 8.0, 3.0, 5.0] ])\n",
    "matriz_c = np.zeros((1, 4))\n",
    "\n",
    "matriz_resultante = np.concatenate( (matriz_a, matriz_b, matriz_c) )\n",
    "matriz_resultante"
   ]
  },
  {
   "cell_type": "code",
   "execution_count": null,
   "metadata": {},
   "outputs": [],
   "source": [
    "# Mostrando a Matriz Transposta\n",
    "matriz_transposta = matriz_resultante.transpose()\n",
    "matriz_transposta"
   ]
  }
 ],
 "metadata": {
  "kernelspec": {
   "display_name": "Python 3",
   "language": "python",
   "name": "python3"
  },
  "language_info": {
   "codemirror_mode": {
    "name": "ipython",
    "version": 3
   },
   "file_extension": ".py",
   "mimetype": "text/x-python",
   "name": "python",
   "nbconvert_exporter": "python",
   "pygments_lexer": "ipython3",
   "version": "3.8.5"
  }
 },
 "nbformat": 4,
 "nbformat_minor": 4
}
