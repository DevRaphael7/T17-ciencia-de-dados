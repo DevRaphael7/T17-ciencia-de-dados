{
 "cells": [
  {
   "cell_type": "markdown",
   "metadata": {},
   "source": [
    "## **Aula 5** - Computação Científica\n",
    "**Professor**: Prof. Edson Melo de Souza, Me.\n",
    "\n",
    "**Objetivo**: Apresentar os conceitos de Arrays e Matrizes para manipulação de dados com as bibliotecas Numpy e SciPy\n",
    "\n",
    "# Biblioteca NumPy e SciPy"
   ]
  },
  {
   "cell_type": "markdown",
   "metadata": {},
   "source": [
    "<p>O NumPy é uma biblioteca Python que é usada principalmente para realizar cálculos em Arrays Multidimensionais. O NumPy fornece um grande conjunto de funções e operações de biblioteca que ajudam os programadores a executar facilmente cálculos numéricos. Esses tipos de cálculos numéricos são amplamente utilizados em tarefas como:</p>\n",
    "<ul>\n",
    "    <li><strong>Machine Learning</strong>: multiplicação de Arrays, transposição, adição, entre outros. Fornece uma excelente biblioteca para cálculos fáceis (em termos de escrita de código) e rápidos (em termos de velocidade). Os Arrays NumPy são usados para armazenar os dados de treinamento, bem como os parâmetros dos modelos de Machine Learning.</li>\n",
    "    <li><strong>Processamento de Imagens</strong>: Imagens no computador são representadas como Arrays Multidimensionais de números e o NumPy fornece funções para espelhamento de uma imagem, a rotação de uma imagem por um determinado ângulo, casos típicos de utilização para este propósito.</li>\n",
    "    <li><strong>Tarefas Matemáticas</strong>: NumPy é bastante útil para executar várias tarefas matemáticas como integração numérica, diferenciação, interpolação, extrapolação e muitas outras. O NumPy possui também funções incorporadas para álgebra linear e geração de números aleatórios. É uma biblioteca que pode ser usada em conjuto do SciPy e Mat-plotlib. Substituindo o MATLAB quando se trata de tarefas matemáticas.</li>\n",
    "</ul>"
   ]
  },
  {
   "cell_type": "markdown",
   "metadata": {},
   "source": [
    "![Title](aula_05_integracao_numpy_matlab.png)"
   ]
  },
  {
   "cell_type": "markdown",
   "metadata": {},
   "source": [
    "# Arrays NumPy"
   ]
  },
  {
   "cell_type": "markdown",
   "metadata": {},
   "source": [
    "<p>A biblioteca NumPy oferece um tipo de array denominado <strong>ndarray</strong>.</p>\n",
    "<p>Essa Array NumPy é uma tabela de elementos (geralmente números), todos do mesmo tipo, indexados por uma tupla de inteiros positivos.</p>\n",
    "<p>No NumPy, as dimensões são chamadas de <strong>eixos</strong>.</p>\n",
    "<p>Vamos ver um exemplo:</p>"
   ]
  },
  {
   "cell_type": "code",
   "execution_count": 58,
   "metadata": {},
   "outputs": [],
   "source": [
    "import numpy as np"
   ]
  },
  {
   "cell_type": "markdown",
   "metadata": {},
   "source": [
    "# Arrays Unidimensionais\n",
    "\n",
    "$$\\left[\\begin{array}{lll}{0} & {0} & {0}\\end{array}\\right]$$"
   ]
  },
  {
   "cell_type": "code",
   "execution_count": 59,
   "metadata": {},
   "outputs": [],
   "source": [
    "# criação de um array unidimensional com a NumPy\n",
    "meu_array = np.array([1, 2, 3, 4, 5])"
   ]
  },
  {
   "cell_type": "code",
   "execution_count": 60,
   "metadata": {},
   "outputs": [
    {
     "name": "stdout",
     "output_type": "stream",
     "text": [
      "[1 2 3 4 5]\n"
     ]
    }
   ],
   "source": [
    "print(meu_array)"
   ]
  },
  {
   "cell_type": "code",
   "execution_count": 61,
   "metadata": {},
   "outputs": [
    {
     "data": {
      "text/plain": [
       "(5,)"
      ]
     },
     "execution_count": 61,
     "metadata": {},
     "output_type": "execute_result"
    }
   ],
   "source": [
    "# mostrando a quantidade de elementos no array (propriedade shape)\n",
    "meu_array.shape"
   ]
  },
  {
   "cell_type": "code",
   "execution_count": 62,
   "metadata": {},
   "outputs": [
    {
     "name": "stdout",
     "output_type": "stream",
     "text": [
      "1\n",
      "2\n"
     ]
    }
   ],
   "source": [
    "# listando os valores no array (por posição)\n",
    "print(meu_array[0])\n",
    "print(meu_array[1])"
   ]
  },
  {
   "cell_type": "code",
   "execution_count": 63,
   "metadata": {},
   "outputs": [
    {
     "name": "stdout",
     "output_type": "stream",
     "text": [
      "1\n",
      "2\n",
      "3\n",
      "4\n",
      "5\n"
     ]
    }
   ],
   "source": [
    "# listando por laço de repetição\n",
    "for valor in meu_array:\n",
    "    print(valor)"
   ]
  },
  {
   "cell_type": "code",
   "execution_count": 64,
   "metadata": {},
   "outputs": [
    {
     "name": "stdout",
     "output_type": "stream",
     "text": [
      "1\n",
      "2\n",
      "3\n",
      "4\n",
      "5\n"
     ]
    }
   ],
   "source": [
    "# outra forma de listagem (percorrendo com While)\n",
    "posicao = 0\n",
    "while (posicao < len(meu_array)) :\n",
    "    print(meu_array[posicao])\n",
    "    posicao += 1"
   ]
  },
  {
   "cell_type": "code",
   "execution_count": 65,
   "metadata": {},
   "outputs": [
    {
     "name": "stdout",
     "output_type": "stream",
     "text": [
      "Valor da posição [0] antes da alteração.: [1 2 3 4 5]\n",
      "Valor da posição [0] depois da alteração: [0 2 3 4 5]\n"
     ]
    }
   ],
   "source": [
    "# alterando um valor no array\n",
    "print('Valor da posição [0] antes da alteração.:',  meu_array)\n",
    "\n",
    "# atribuindo o valor 0 para posição [0]\n",
    "meu_array[0] = 0 \n",
    "\n",
    "print('Valor da posição [0] depois da alteração:', meu_array)"
   ]
  },
  {
   "cell_type": "code",
   "execution_count": 66,
   "metadata": {},
   "outputs": [
    {
     "data": {
      "text/plain": [
       "array([0., 0., 0., 0., 0.])"
      ]
     },
     "execution_count": 66,
     "metadata": {},
     "output_type": "execute_result"
    }
   ],
   "source": [
    "# criando um array vazio (preenchido com zeros)\n",
    "meu_array = np.zeros(shape=(5))\n",
    "meu_array"
   ]
  },
  {
   "cell_type": "code",
   "execution_count": 67,
   "metadata": {},
   "outputs": [
    {
     "data": {
      "text/plain": [
       "array([], dtype=float64)"
      ]
     },
     "execution_count": 67,
     "metadata": {},
     "output_type": "execute_result"
    }
   ],
   "source": [
    "# criando um array de floats\n",
    "meu_array_float = np.array([], dtype=np.float64)\n",
    "meu_array_float"
   ]
  },
  {
   "cell_type": "code",
   "execution_count": 68,
   "metadata": {},
   "outputs": [
    {
     "data": {
      "text/plain": [
       "array([0, 1, 2, 3, 4, 5, 6, 7, 8, 9])"
      ]
     },
     "execution_count": 68,
     "metadata": {},
     "output_type": "execute_result"
    }
   ],
   "source": [
    "# criando um array com valores sequencias utilizando o arange()\n",
    "meu_array = np.arange(10)\n",
    "meu_array"
   ]
  },
  {
   "cell_type": "code",
   "execution_count": 69,
   "metadata": {},
   "outputs": [
    {
     "data": {
      "text/plain": [
       "[-1, 0, 1, 2]"
      ]
     },
     "execution_count": 69,
     "metadata": {},
     "output_type": "execute_result"
    }
   ],
   "source": [
    "# atribuindo elementos em sequência para o array\n",
    "meu_array_float = [-1, 0, 1, 2]\n",
    "meu_array_float"
   ]
  },
  {
   "cell_type": "code",
   "execution_count": 70,
   "metadata": {},
   "outputs": [
    {
     "data": {
      "text/plain": [
       "array([0.16520822, 0.27622025, 0.93724205, 0.25691102, 0.24624056])"
      ]
     },
     "execution_count": 70,
     "metadata": {},
     "output_type": "execute_result"
    }
   ],
   "source": [
    "# criando um array com valores aleatórios\n",
    "meu_array_random = np.random.random((5))\n",
    "meu_array_random"
   ]
  },
  {
   "cell_type": "code",
   "execution_count": 71,
   "metadata": {},
   "outputs": [
    {
     "data": {
      "text/plain": [
       "array([7, 6, 0, 0, 3, 0, 0, 7, 8, 9])"
      ]
     },
     "execution_count": 71,
     "metadata": {},
     "output_type": "execute_result"
    }
   ],
   "source": [
    "# criando um array com valores aleatórios (dentro de um intervalo) - 0 e 10\n",
    "meu_array_random = np.random.randint(0, 10, size=(10))\n",
    "meu_array_random"
   ]
  },
  {
   "cell_type": "code",
   "execution_count": 72,
   "metadata": {},
   "outputs": [
    {
     "data": {
      "text/plain": [
       "array([0, 0, 0, 0, 3, 6, 7, 7, 8, 9])"
      ]
     },
     "execution_count": 72,
     "metadata": {},
     "output_type": "execute_result"
    }
   ],
   "source": [
    "meu_array_random.sort()\n",
    "meu_array_random"
   ]
  },
  {
   "cell_type": "code",
   "execution_count": 73,
   "metadata": {},
   "outputs": [
    {
     "data": {
      "text/plain": [
       "array([  2,   8,  22, 150])"
      ]
     },
     "execution_count": 73,
     "metadata": {},
     "output_type": "execute_result"
    }
   ],
   "source": [
    "# fatiando um array (removendo o primeiro elemento)\n",
    "meu_array = np.array([3, 2, 8 , 22, 150])\n",
    "meu_array[1:]"
   ]
  },
  {
   "cell_type": "markdown",
   "metadata": {},
   "source": [
    "#### Fatiando um Array (*slice*)"
   ]
  },
  {
   "cell_type": "code",
   "execution_count": 74,
   "metadata": {},
   "outputs": [
    {
     "data": {
      "text/plain": [
       "array([ 8, 22])"
      ]
     },
     "execution_count": 74,
     "metadata": {},
     "output_type": "execute_result"
    }
   ],
   "source": [
    "# fatiando e selecionando uma parte do array (o último elemento não entra na contagem)\n",
    "meu_array[2:4]"
   ]
  },
  {
   "cell_type": "markdown",
   "metadata": {},
   "source": [
    "# Arrays Bidimensionais (Matrizes)\n",
    "\n",
    "$$I_3 = \\left[\\begin{array}{lll}{1} & {0} & {0} \\\\ {0} & {1} & {0} \\\\ {0} & {0} & {1} \\end{array}\\right]$$"
   ]
  },
  {
   "cell_type": "markdown",
   "metadata": {},
   "source": [
    "<br>\n",
    "<p align=\"center\" style=\"text-align: center;\">\n",
    "    <img src=\"aula_05_matriz.png\" />\n",
    "</p>"
   ]
  },
  {
   "cell_type": "code",
   "execution_count": 75,
   "metadata": {},
   "outputs": [
    {
     "data": {
      "text/plain": [
       "array([[0., 0.],\n",
       "       [0., 0.],\n",
       "       [0., 0.]])"
      ]
     },
     "execution_count": 75,
     "metadata": {},
     "output_type": "execute_result"
    }
   ],
   "source": [
    "# criando uma matriz com valores zero\n",
    "minha_matriz = np.zeros([3,2])\n",
    "minha_matriz"
   ]
  },
  {
   "cell_type": "code",
   "execution_count": 76,
   "metadata": {},
   "outputs": [
    {
     "data": {
      "text/plain": [
       "array([[1., 1.],\n",
       "       [1., 1.],\n",
       "       [1., 1.]])"
      ]
     },
     "execution_count": 76,
     "metadata": {},
     "output_type": "execute_result"
    }
   ],
   "source": [
    "# criando uma matriz com valores um\n",
    "minha_matriz = np.ones([3,2])\n",
    "minha_matriz"
   ]
  },
  {
   "cell_type": "code",
   "execution_count": 77,
   "metadata": {},
   "outputs": [
    {
     "data": {
      "text/plain": [
       "array([[1, 2],\n",
       "       [3, 4]])"
      ]
     },
     "execution_count": 77,
     "metadata": {},
     "output_type": "execute_result"
    }
   ],
   "source": [
    "# criando uma matriz com elementos inicializados\n",
    "minha_matriz = np.array([ [1,2], [3,4] ])\n",
    "minha_matriz"
   ]
  },
  {
   "cell_type": "code",
   "execution_count": 78,
   "metadata": {},
   "outputs": [
    {
     "data": {
      "text/plain": [
       "(2, 2)"
      ]
     },
     "execution_count": 78,
     "metadata": {},
     "output_type": "execute_result"
    }
   ],
   "source": [
    "minha_matriz.shape"
   ]
  },
  {
   "cell_type": "code",
   "execution_count": 79,
   "metadata": {},
   "outputs": [
    {
     "data": {
      "text/plain": [
       "3"
      ]
     },
     "execution_count": 79,
     "metadata": {},
     "output_type": "execute_result"
    }
   ],
   "source": [
    "# lendo um valor específico na matriz\n",
    "minha_matriz[1][0]"
   ]
  },
  {
   "cell_type": "code",
   "execution_count": 80,
   "metadata": {},
   "outputs": [
    {
     "data": {
      "text/plain": [
       "array([2, 4])"
      ]
     },
     "execution_count": 80,
     "metadata": {},
     "output_type": "execute_result"
    }
   ],
   "source": [
    "# pegando o valor de uma coluna\n",
    "minha_matriz[:, 1]"
   ]
  },
  {
   "cell_type": "markdown",
   "metadata": {},
   "source": [
    "#### Fatiando uma Matriz (*slice*)"
   ]
  },
  {
   "cell_type": "code",
   "execution_count": 81,
   "metadata": {},
   "outputs": [
    {
     "data": {
      "text/plain": [
       "array([[2, 2, 1, 2, 7],\n",
       "       [9, 7, 6, 9, 4],\n",
       "       [1, 7, 8, 7, 5],\n",
       "       [6, 4, 1, 9, 4],\n",
       "       [2, 2, 8, 3, 4]])"
      ]
     },
     "execution_count": 81,
     "metadata": {},
     "output_type": "execute_result"
    }
   ],
   "source": [
    "M = np.random.randint(1, 10, size = (5, 5)) # int entre 1 e 10\n",
    "M"
   ]
  },
  {
   "cell_type": "code",
   "execution_count": 82,
   "metadata": {},
   "outputs": [
    {
     "data": {
      "text/plain": [
       "array([[2, 2, 1],\n",
       "       [9, 7, 6],\n",
       "       [1, 7, 8]])"
      ]
     },
     "execution_count": 82,
     "metadata": {},
     "output_type": "execute_result"
    }
   ],
   "source": [
    "fatia = M[0:3, 0:3]\n",
    "fatia"
   ]
  },
  {
   "cell_type": "markdown",
   "metadata": {},
   "source": [
    "# Manipulação de Arrays com a NumPy"
   ]
  },
  {
   "cell_type": "code",
   "execution_count": 83,
   "metadata": {},
   "outputs": [],
   "source": [
    "# declaração da nossa Matriz\n",
    "matriz_a = np.array([[1.0, 2.0], [3.0, 4.0]])\n",
    "matriz_b = np.array([[5.0, 6.0], [7.0, 8.0]])"
   ]
  },
  {
   "cell_type": "markdown",
   "metadata": {},
   "source": [
    "# Operações (Elemento por Elemento)"
   ]
  },
  {
   "cell_type": "code",
   "execution_count": 84,
   "metadata": {},
   "outputs": [
    {
     "name": "stdout",
     "output_type": "stream",
     "text": [
      "[[1. 2.]\n",
      " [3. 4.]] \n",
      "\n",
      "[[5. 6.]\n",
      " [7. 8.]]\n",
      "\n",
      "\n",
      "Soma = \n",
      " [[ 6.  8.]\n",
      " [10. 12.]]\n",
      "\n",
      "\n",
      "Diferença = \n",
      " [[-4. -4.]\n",
      " [-4. -4.]]\n",
      "\n",
      "\n",
      "Divisão = \n",
      " [[0.2        0.33333333]\n",
      " [0.42857143 0.5       ]]\n",
      "\n",
      "\n",
      "Produto = \n",
      " [[ 5. 12.]\n",
      " [21. 32.]]\n"
     ]
    }
   ],
   "source": [
    "print(matriz_a, '\\n')\n",
    "print(matriz_b)\n",
    "\n",
    "soma = matriz_a + matriz_b # Soma\n",
    "diferenca = matriz_a - matriz_b # Subtração\n",
    "divisao = matriz_a / matriz_b # Divisão\n",
    "produto = matriz_a * matriz_b # Multiplicação\n",
    "\n",
    "print('\\n')\n",
    "print('Soma = \\n', + soma)\n",
    "print('\\n')\n",
    "print('Diferença = \\n', + diferenca)\n",
    "print('\\n')\n",
    "print('Divisão = \\n', + divisao)\n",
    "print('\\n')\n",
    "print('Produto = \\n', + produto)"
   ]
  },
  {
   "cell_type": "markdown",
   "metadata": {},
   "source": [
    "# Multiplicação de Matrizes (Matriz por Matriz)\n",
    "\n",
    "O produto $\\mathbf{AB}$ das matrizes $\\mathbf{A} \\in \\mathbb{R}^{m \\times \\ell}$ e $\\mathbf{B} \\in \\mathbb{R}^{\\ell \\times n}$ consiste em computar o produto entre cada linha da $\\mathbf{A}$ com cada coluna de $\\mathbf{B}$:\n",
    "\n",
    "$$\\mathbf{C}=\\mathbf{A} \\mathbf{B} \\quad \\Leftrightarrow \\quad c_{i j}=\\sum_{k=1}^{\\ell} a_{i k} b_{k j}, \\forall i \\in[1, \\ldots, m], j \\in[1, \\ldots, n].$$\n",
    "\n",
    "$$\\left[\\begin{array}{ll}{a_{11}} & {a_{12}} \\\\ {a_{21}} & {a_{22}} \\\\ {a_{31}} & {a_{32}}\\end{array}\\right]\\left[\\begin{array}{ll}{b_{11}} & {b_{12}} \\\\ {b_{21}} & {b_{22}}\\end{array}\\right]=\\left[\\begin{array}{ll}{a_{11} b_{11}+a_{12} b_{21}} & {a_{11} b_{12}+a_{12} b_{22}} \\\\ {a_{21} b_{11}+a_{22} b_{21}} & {a_{21} b_{12}+a_{22} b_{22}} \\\\ {a_{31} b_{11}+a_{32} b_{21}} & {a_{31} b_{12}+a_{32} b_{22}}\\end{array}\\right] \\in \\mathbb{R}^{3 \\times 2}.$$"
   ]
  },
  {
   "cell_type": "markdown",
   "metadata": {},
   "source": [
    "<p align=\"center\" style=\"text-align: center;\">\n",
    "    <img src=\"aula_05_matrix-multiplication-field-row-the-matrix-png-clip-art.png\" />\n",
    "</p>"
   ]
  },
  {
   "cell_type": "code",
   "execution_count": 85,
   "metadata": {},
   "outputs": [
    {
     "name": "stdout",
     "output_type": "stream",
     "text": [
      "Multiplicação:\n",
      " [[19. 22.]\n",
      " [43. 50.]]\n"
     ]
    }
   ],
   "source": [
    "# exemplo correto de multiplicação de matrizes (o método .dot() é o responsável pela multiplicação)\n",
    "print('Multiplicação:\\n', matriz_a.dot(matriz_b))"
   ]
  },
  {
   "cell_type": "markdown",
   "metadata": {},
   "source": [
    "# Concatenando Matrizes"
   ]
  },
  {
   "cell_type": "code",
   "execution_count": 86,
   "metadata": {},
   "outputs": [
    {
     "data": {
      "text/plain": [
       "array([[1., 2., 8., 6.],\n",
       "       [3., 4., 4., 2.],\n",
       "       [5., 6., 9., 1.],\n",
       "       [7., 8., 3., 5.],\n",
       "       [0., 0., 0., 0.]])"
      ]
     },
     "execution_count": 86,
     "metadata": {},
     "output_type": "execute_result"
    }
   ],
   "source": [
    "matriz_a = np.array([ [1.0, 2.0, 8.0, 6.0], [3.0, 4.0, 4.0, 2.0] ])\n",
    "matriz_b = np.array([ [5.0, 6.0, 9.0, 1.0], [7.0, 8.0, 3.0, 5.0] ])\n",
    "matriz_c = np.zeros((1, 4))\n",
    "\n",
    "matriz_resultante = np.concatenate( (matriz_a, matriz_b, matriz_c) )\n",
    "matriz_resultante"
   ]
  },
  {
   "cell_type": "markdown",
   "metadata": {},
   "source": [
    "# Dividindo Matrizes\n",
    "* As linhas das matrizes resultantes devem ter o mesmo número"
   ]
  },
  {
   "cell_type": "code",
   "execution_count": 87,
   "metadata": {},
   "outputs": [
    {
     "data": {
      "text/plain": [
       "array([[1., 2., 8., 6.],\n",
       "       [3., 4., 4., 2.]])"
      ]
     },
     "execution_count": 87,
     "metadata": {},
     "output_type": "execute_result"
    }
   ],
   "source": [
    "# dividindo a matriz_a em duas partes (transformação para vetor, neste caso)\n",
    "matriz_a = np.array([ [1.0, 2.0, 8.0, 6.0], [3.0, 4.0, 4.0, 2.0], [5.0, 6.0, 9.0, 1.0], [7.0, 8.0, 3.0, 5.0] ])\n",
    "\n",
    "matriz_resultante = np.split(matriz_a, 2)\n",
    "matriz_resultante[0]"
   ]
  },
  {
   "cell_type": "code",
   "execution_count": 88,
   "metadata": {},
   "outputs": [
    {
     "data": {
      "text/plain": [
       "array([[5., 6., 9., 1.],\n",
       "       [7., 8., 3., 5.]])"
      ]
     },
     "execution_count": 88,
     "metadata": {},
     "output_type": "execute_result"
    }
   ],
   "source": [
    "matriz_resultante[1]"
   ]
  },
  {
   "cell_type": "markdown",
   "metadata": {},
   "source": [
    "# Matriz Transposta\n",
    "Uma matriz transposta é aquela onde é realizada a troca das linhas pelas colunas\n",
    "\n",
    "A matriz transposta $\\mathbf{A}^T$ é definida pela fórmula $a{^T}_{ij} = a_{ji}$. Em outras palavras, obtemos a transposição por “virar” a matriz pela sua diagonal:\n",
    "\n",
    "$$^{T}: \\mathbb{R}^{m \\times n} \\rightarrow \\mathbb{R}^{n \\times m}$$\n",
    "\n",
    "$$\\left[\\begin{array}{lll}{\\alpha_{1}} & {\\alpha_{2}} & {\\alpha_{3}} \\\\ {\\beta_{1}} & {\\beta_{2}} & {\\beta_{3}}\\end{array}\\right]^{\\top}=\\left[\\begin{array}{ll}{\\alpha_{1}} & {\\beta_{1}} \\\\ {\\alpha_{2}} & {\\beta_{2}} \\\\ {\\alpha_{3}} & {\\beta_{3}}\\end{array}\\right]$$"
   ]
  },
  {
   "cell_type": "markdown",
   "metadata": {},
   "source": [
    "<br>\n",
    "<p align=\"center\" style=\"text-align: center;\">\n",
    "    <img src=\"aula_05_matriz-transposta.png\" />\n",
    "</p>"
   ]
  },
  {
   "cell_type": "code",
   "execution_count": 89,
   "metadata": {},
   "outputs": [
    {
     "data": {
      "text/plain": [
       "array([[1., 2., 8., 6.],\n",
       "       [3., 4., 4., 2.],\n",
       "       [5., 6., 9., 1.],\n",
       "       [7., 8., 3., 5.],\n",
       "       [0., 0., 0., 0.]])"
      ]
     },
     "execution_count": 89,
     "metadata": {},
     "output_type": "execute_result"
    }
   ],
   "source": [
    "\n",
    "matriz_a = np.array([ [1.0, 2.0, 8.0, 6.0], [3.0, 4.0, 4.0, 2.0] ])\n",
    "matriz_b = np.array([ [5.0, 6.0, 9.0, 1.0], [7.0, 8.0, 3.0, 5.0] ])\n",
    "matriz_c = np.zeros((1, 4))\n",
    "\n",
    "matriz_resultante = np.concatenate( (matriz_a, matriz_b, matriz_c) )\n",
    "matriz_resultante"
   ]
  },
  {
   "cell_type": "code",
   "execution_count": 90,
   "metadata": {},
   "outputs": [
    {
     "data": {
      "text/plain": [
       "array([[1., 3., 5., 7., 0.],\n",
       "       [2., 4., 6., 8., 0.],\n",
       "       [8., 4., 9., 3., 0.],\n",
       "       [6., 2., 1., 5., 0.]])"
      ]
     },
     "execution_count": 90,
     "metadata": {},
     "output_type": "execute_result"
    }
   ],
   "source": [
    "# Mostrando a Matriz Transposta\n",
    "matriz_transposta = matriz_resultante.transpose()\n",
    "matriz_transposta"
   ]
  },
  {
   "cell_type": "markdown",
   "metadata": {},
   "source": [
    "# Estatísticas sobre Matrizes"
   ]
  },
  {
   "cell_type": "code",
   "execution_count": 91,
   "metadata": {},
   "outputs": [
    {
     "name": "stdout",
     "output_type": "stream",
     "text": [
      "Máximo.......: 9.0\n",
      "Mínimo.......: 0.0\n",
      "Soma.........: 74.0\n",
      "Média........: 3.7\n",
      "Variância....: 8.309999999999999\n",
      "Desvio Padrão: 2.882707061079915\n",
      "Ptp..........: 9.0\n"
     ]
    }
   ],
   "source": [
    "print('Máximo.......:', matriz_transposta.max())\n",
    "print('Mínimo.......:', matriz_transposta.min())\n",
    "print('Soma.........:', matriz_transposta.sum())\n",
    "print('Média........:', matriz_transposta.mean())\n",
    "print('Variância....:', matriz_transposta.var())\n",
    "print('Desvio Padrão:', matriz_transposta.std())\n",
    "print('Ptp..........:', matriz_transposta.ptp()) # diferença entre o maior e menor valor de uma matriz"
   ]
  },
  {
   "cell_type": "markdown",
   "metadata": {},
   "source": [
    "# Determinantes (1, 2 e 3 ordens)\n",
    "\n",
    "* A matrizes de Ordem 2 ou matriz 2x2, são aquelas que apresentam duas linhas e duas colunas.\n",
    "\n",
    "* O determinante de uma matriz desse tipo é calculado, primeiro multiplicando os valores constantes nas diagonais, uma principal e outra secundária.\n",
    "\n",
    "* De seguida, subtraindo os resultados obtidos dessa multiplicação.\n",
    "\n",
    "$$\\operatorname{det}: \\mathbb{R}^{n \\times n} \\rightarrow \\mathbb{R}.$$\n",
    "\n",
    "A determinante descreve a geometria relativa dos vetores que fazem as linhas de uma matriz. Mais especificamente, a determinante de uma matriz $\\mathbf{A}$ diz respeito sobre o *volume* de uma caixa com os lados dados pelas linhas de $\\mathbf{A}$.\n",
    "\n",
    "A determinante de uma matriz $2 \\times 2$ é:\n",
    "\n",
    "$$\\operatorname{det}(\\mathbf{A})=\\operatorname{det}\\left(\\left[\\begin{array}{ll}{a} & {b} \\\\ {c} & {d}\\end{array}\\right]\\right)=\\left|\\begin{array}{ll}{a} & {b} \\\\ {c} & {d}\\end{array}\\right|=a d-b c$$\n",
    "\n",
    "<br>\n",
    "<p align=\"center\" style=\"text-align: center;\">\n",
    "    <img src=\"aula_05_determinantes_terceira_ordem.png\" />\n",
    "</p>"
   ]
  },
  {
   "cell_type": "code",
   "execution_count": 92,
   "metadata": {},
   "outputs": [
    {
     "name": "stdout",
     "output_type": "stream",
     "text": [
      "Matriz A\n",
      " [[8]]\n",
      "Determinante de A 8.0\n",
      "\n",
      "\n",
      "Matriz B\n",
      " [[4 2]\n",
      " [3 3]]\n",
      "Determinante de B 6.0\n",
      "\n",
      "\n",
      "Matriz C\n",
      " [[1 4 2]\n",
      " [1 3 3]\n",
      " [2 6 1]]\n",
      "Determinante de C 5.0\n"
     ]
    }
   ],
   "source": [
    "import numpy as np\n",
    "from scipy import linalg\n",
    "\n",
    "A = np.array([[8]])\n",
    "B = np.array([[4,2],[3,3]])\n",
    "C = np.array([[1,4,2],[1,3,3],[2,6,1]])\n",
    "\n",
    "print('Matriz A\\n', A)\n",
    "print('Determinante de A', round(np.linalg.det(A),2))\n",
    "\n",
    "print('\\n')\n",
    "print('Matriz B\\n', B)\n",
    "print('Determinante de B', round(np.linalg.det(B),2))\n",
    "\n",
    "print('\\n')\n",
    "print('Matriz C\\n', C)\n",
    "print('Determinante de C', round(np.linalg.det(C),2))"
   ]
  },
  {
   "cell_type": "markdown",
   "metadata": {},
   "source": [
    "# Biblioteca SciPy\n",
    "<p>SciPy é uma biblioteca Open Source em linguagem Python que foi feita para matemáticos, cientistas e engenheiros. Também tem o nome de uma popular conferência de programação científica com Python.</p>\n",
    "<p>A sua biblioteca central é NumPy que fornece uma manipulação conveniente e rápida de um array N-dimensional. </p>\n",
    "<p>A biblioteca SciPy foi desenvolvida para trabalhar com arrays NumPy, e fornece muitas rotinas amigáveis e bem eficientes como rotinas para integração numérica e otimização.</p>"
   ]
  },
  {
   "cell_type": "code",
   "execution_count": 93,
   "metadata": {},
   "outputs": [],
   "source": [
    "# importação das bibliotecas\n",
    "import numpy as np\n",
    "from scipy import linalg"
   ]
  },
  {
   "cell_type": "markdown",
   "metadata": {},
   "source": [
    "# Matriz Inversa\n",
    "*  Matriz inversa ou matriz invertível é um tipo de matriz quadrada, ou seja, que possui o mesmo número de linhas (m) e colunas (n).\n",
    "* Ela ocorre quando o produto de duas matrizes resulta numa matriz identidade de mesma ordem (mesmo número de linhas e colunas)."
   ]
  },
  {
   "cell_type": "code",
   "execution_count": 94,
   "metadata": {},
   "outputs": [
    {
     "data": {
      "text/plain": [
       "array([[1, 2, 3],\n",
       "       [0, 1, 4],\n",
       "       [0, 0, 1]])"
      ]
     },
     "execution_count": 94,
     "metadata": {},
     "output_type": "execute_result"
    }
   ],
   "source": [
    "matriz = np.array([ [1,2,3], [0,1,4], [0,0,1] ])\n",
    "matriz"
   ]
  },
  {
   "cell_type": "code",
   "execution_count": 95,
   "metadata": {},
   "outputs": [
    {
     "data": {
      "text/plain": [
       "array([[ 1., -2.,  5.],\n",
       "       [ 0.,  1., -4.],\n",
       "       [ 0.,  0.,  1.]])"
      ]
     },
     "execution_count": 95,
     "metadata": {},
     "output_type": "execute_result"
    }
   ],
   "source": [
    "# Matriz Inversa\n",
    "matriz_inversa = linalg.inv(matriz)\n",
    "matriz_inversa"
   ]
  },
  {
   "cell_type": "code",
   "execution_count": 96,
   "metadata": {},
   "outputs": [
    {
     "data": {
      "text/plain": [
       "array([[1., 0., 0.],\n",
       "       [0., 1., 0.],\n",
       "       [0., 0., 1.]])"
      ]
     },
     "execution_count": 96,
     "metadata": {},
     "output_type": "execute_result"
    }
   ],
   "source": [
    "# prova\n",
    "matriz.dot(matriz_inversa)"
   ]
  },
  {
   "cell_type": "markdown",
   "metadata": {},
   "source": [
    "# Sistemas Lineares\n",
    "\n",
    "Sistemas lineares é um conjunto de equações lineares, com **m** equações e **n** incógnitas.\n",
    "\n",
    "A solução de um sistema linear é a solução de todas as equações lineares.\n",
    "\n",
    "Existem muitas maneiras de resolvermos um sistema de equações lineares ou sistemas lineares, como quiser chamá-los.\n",
    "\n",
    "<p align=\"center\" style=\"text-align: center;\">\n",
    "    <img src=\"aula_05_sistema-linear.png\" />\n",
    "</p>"
   ]
  },
  {
   "cell_type": "markdown",
   "metadata": {},
   "source": [
    "Exemplo de uma equação linear:\n",
    "\n",
    "![ex_eq_linear](aula_05_sistemas-lineares-exemplo-2.png)"
   ]
  },
  {
   "cell_type": "markdown",
   "metadata": {},
   "source": [
    "### Resolvendo o sistema linear\n",
    "\n",
    "#### Determinante Principal\n",
    "![p1](aula_05_sistemas-lineares-determinante-principal-2.png)\n",
    "\n",
    "$[3 * 3 * (-2)] + [2 * 1 * 2] + [(-1) * 1 * 2] – [2 * 1 * (-2)] – [3 * 1 * 2] – [(-1) * 3 * 2] = -18 + 4 – 2 + 4 – 6 + 6 = -12$\n",
    "\n",
    "#### Determinantes Secundários\n",
    "![p2](aula_05_sistemas-lineares-determinantes-secundarios-2.png)\n",
    "\n",
    "$[0 * 3 * (-2)] + [2 * 1 * 2] + [(-1) * 1 * 2] – [2 * 1 * (-2)] – [0 * 1 * 2] – [(-1) * 3 * 2] = 0 + 4 – 2 + 4 – 0 + 6 = 12$\n",
    "\n",
    "![p3](aula_05_sistemas-lineares-determinantes-secundarios-3.png)\n",
    "$[3 * 1 . (-2)] + [0 * 1 * 2] + [(-1) * 1 * 2] – [0 * 1 * (-2)] – [3 * 1 * 2] – [(-1) * 1 * 2] = – 6 + 0 – 2 – 0 – 6 + 2 = -12$\n",
    "\n",
    "![p4](aula_05_sistemas-lineares-determinantes-secundarios-4.png)\n",
    "$[3 * 3 * 2] + [2 * 1 * 2] + [0 * 1 * 2] – [2 * 1 * 2] – [3 * 1 * 2] – [0 . 3 . 2] = 18 + 4 + 0 – 4 – 6 – 0 = 12$\n",
    "\n",
    "Calculando o determinante para matrizes quadradas de ordem 3. Logo,\n",
    "\n",
    "![p5](aula_05_regra-de-cramer-solucao.png)\n",
    "\n",
    "A solução do sistema é: (-1, 1, -1)\n"
   ]
  },
  {
   "cell_type": "markdown",
   "metadata": {},
   "source": [
    "## Utilizando a Numpy para resolver o sistema linear"
   ]
  },
  {
   "cell_type": "code",
   "execution_count": 97,
   "metadata": {},
   "outputs": [
    {
     "data": {
      "text/plain": [
       "array([[-1.],\n",
       "       [ 1.],\n",
       "       [-1.]])"
      ]
     },
     "execution_count": 97,
     "metadata": {},
     "output_type": "execute_result"
    }
   ],
   "source": [
    "A = np.array( [\n",
    "    [3, 2, -1], \n",
    "    [1, 3, 1], \n",
    "    [2, 2, -2] ] )\n",
    "B = np.array( [ \n",
    "    [0], \n",
    "    [1], \n",
    "    [2] ])\n",
    "\n",
    "A_inversa = linalg.inv(A)\n",
    "C = A_inversa.dot(B)\n",
    "C"
   ]
  },
  {
   "cell_type": "code",
   "execution_count": 98,
   "metadata": {},
   "outputs": [
    {
     "name": "stdout",
     "output_type": "stream",
     "text": [
      "Valor da variável A: [-1.]\n",
      "Valor da variável B: [1.]\n",
      "Valor da variável C: [-1.]\n"
     ]
    }
   ],
   "source": [
    "print('Valor da variável A:', C[0])\n",
    "print('Valor da variável B:', C[1])\n",
    "print('Valor da variável C:', C[2])"
   ]
  },
  {
   "cell_type": "code",
   "execution_count": 99,
   "metadata": {},
   "outputs": [
    {
     "data": {
      "text/plain": [
       "array([[-1.],\n",
       "       [ 1.],\n",
       "       [-1.]])"
      ]
     },
     "execution_count": 99,
     "metadata": {},
     "output_type": "execute_result"
    }
   ],
   "source": [
    "# outra forma de resolução - método solve\n",
    "\n",
    "A = np.array( [ [3, 2, -1], [1, 3, 1], [2, 2, -2] ] )\n",
    "B = np.array( [ [0], [1], [2] ])\n",
    "C = np.linalg.solve(A, B)\n",
    "C"
   ]
  },
  {
   "cell_type": "code",
   "execution_count": 100,
   "metadata": {},
   "outputs": [
    {
     "name": "stdout",
     "output_type": "stream",
     "text": [
      "Valor da variável A: [-1.]\n",
      "Valor da variável B: [1.]\n",
      "Valor da variável C: [-1.]\n"
     ]
    }
   ],
   "source": [
    "print('Valor da variável A:', C[0])\n",
    "print('Valor da variável B:', C[1])\n",
    "print('Valor da variável C:', C[2])"
   ]
  },
  {
   "cell_type": "markdown",
   "metadata": {},
   "source": [
    "# ATIVIDADE\n",
    "<p>Dada a matriz M</p>\n",
    "\n",
    "$M = \\left[\\begin{array}{lllll}\n",
    "    {1} & {2} & {3} & {4} & {5}\\\\\n",
    "    {7} & {-2} & {-6} & {1} & {-2}\\\\\n",
    "    {4} & {5} & {-3} & {3} & {9}\\\\\n",
    "    {4} & {6} & {7} & {2} & {-1}\\\\\n",
    "    {8} & {-8} & {8} & {-8} & {9}\\\\\n",
    "\\end{array}\\right]$\n",
    "\n",
    "<ol>\n",
    "    <li>Qual é a inversa da matriz M?</li>\n",
    "    <li>Qual é a transposta da matriz M?</li>\n",
    "    <li>Qual é o determinante da matriz M para a terceira ordem?</li>\n",
    "    <li>Apresentar para a matriz M: máximo, mínimo, soma, média, variância e desvio padrão</li>\n",
    "    <li>Apresente os valores da Diagonal Principal da matriz (M)</li>\n",
    "    <li>Apresente os valores da Diagonal Secundária da matriz (M)</li>\n",
    "    <li>Apresente o somatório da Diagonal Principal da matriz (M)</li>\n",
    "    <li>Apresente o somatório da Diagonal Secundária da matriz (M)</li>\n",
    "</ol>"
   ]
  }
 ],
 "metadata": {
  "kernelspec": {
   "display_name": "Python 3",
   "language": "python",
   "name": "python3"
  },
  "language_info": {
   "codemirror_mode": {
    "name": "ipython",
    "version": 3
   },
   "file_extension": ".py",
   "mimetype": "text/x-python",
   "name": "python",
   "nbconvert_exporter": "python",
   "pygments_lexer": "ipython3",
   "version": "3.6.9"
  }
 },
 "nbformat": 4,
 "nbformat_minor": 4
}
