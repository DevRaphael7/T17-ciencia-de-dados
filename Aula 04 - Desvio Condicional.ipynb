{
 "cells": [
  {
   "cell_type": "markdown",
   "metadata": {
    "colab_type": "text",
    "id": "dNqUTkFmvWMQ"
   },
   "source": [
    "### **Aula 04** - Desvio Condicional\n",
    "**Objetivo:** Apresentar o desvio condicional em Python (IF)\n",
    "\n",
    "Um desvio condicional tem por finalidade tomar uma decisão de acordo com o resultado de uma condição (teste lógico), e então executar um bloco de códigos que irá depender do resultado dessa condição."
   ]
  },
  {
   "cell_type": "markdown",
   "metadata": {
    "colab_type": "text",
    "id": "ptZ2Fc_Svien"
   },
   "source": [
    "**Desvio Condicional Simples (if)**\n",
    "\n",
    "O desvio condicional simples permite executar um bloco de código caso o resultado do teste lógico (expressão lógica) seja verdadeiro, ignorando um resultado falso.\n",
    "\n",
    "**Pseudocódigo:**\n",
    "```\n",
    "se (condição) então\n",
    "    Instruções caso condição retorne verdadeiro\n",
    "fimse\n",
    "instruções que serão executadas independentemente do resultado do teste\n",
    "```\n",
    "**Sintaxe Python:**\n",
    "```\n",
    "if (condição):\n",
    "    Instruções caso condição retorne verdadeiro\n",
    "instruções que serão executadas independentemente do resultado do teste\n",
    "```\n",
    "\n",
    "**ATENÇÃO:** É importante manter a indentação (*indentation*)"
   ]
  },
  {
   "cell_type": "code",
   "execution_count": null,
   "metadata": {
    "colab": {
     "base_uri": "https://localhost:8080/",
     "height": 51
    },
    "colab_type": "code",
    "executionInfo": {
     "elapsed": 1425,
     "status": "ok",
     "timestamp": 1580961249577,
     "user": {
      "displayName": "Edson Melo de Souza",
      "photoUrl": "https://lh3.googleusercontent.com/a-/AAuE7mAcRvHH8bijoUTg7dLxr2LPgB2TvuA0cNSMLx-PeQ=s64",
      "userId": "00366167566600782318"
     },
     "user_tz": 180
    },
    "id": "-PHuC2vtAHpu",
    "outputId": "f629762f-b93a-4633-c2bd-fead54d32417"
   },
   "outputs": [],
   "source": [
    "if 10 < 20:\n",
    "    print('Verdadeiro')\n",
    "    \n",
    "print('Processamento após o IF')"
   ]
  },
  {
   "cell_type": "code",
   "execution_count": null,
   "metadata": {
    "colab": {
     "base_uri": "https://localhost:8080/",
     "height": 34
    },
    "colab_type": "code",
    "executionInfo": {
     "elapsed": 1352,
     "status": "ok",
     "timestamp": 1580961269533,
     "user": {
      "displayName": "Edson Melo de Souza",
      "photoUrl": "https://lh3.googleusercontent.com/a-/AAuE7mAcRvHH8bijoUTg7dLxr2LPgB2TvuA0cNSMLx-PeQ=s64",
      "userId": "00366167566600782318"
     },
     "user_tz": 180
    },
    "id": "NN_CFoSoAPTt",
    "outputId": "1b756cfb-adc0-4b95-cb53-02f50bf4ff05"
   },
   "outputs": [],
   "source": [
    "# neste caso nada será apresentado, porque não existe nada a ser processado\n",
    "# quando a condição for falsa\n",
    "if 10 > 20:\n",
    "    print('Verdadeiro')\n",
    "print('Processamento após o IF')"
   ]
  },
  {
   "cell_type": "markdown",
   "metadata": {
    "colab_type": "text",
    "id": "-UuONXgxBNz2"
   },
   "source": [
    "**Desvio Condicional Composto (if-else)**\n",
    "\n",
    "O desvio condicional composto tem por finalidade tomar decisões de acordo com o resultado de uma condição (teste lógico), da mesma forma que o desvio condicional simples. Porém, enquanto o condicional simples somente executa instruções quando o teste condicional retorna verdadeiro, o condicional composto permite criar dois blocos de código.\n",
    "\n",
    "**Sintaxe:**\n",
    "\n",
    "````\n",
    "se (condição) então\n",
    "    Instruções caso condição retorne verdadeiro\n",
    "senão\n",
    "    Instruções caso condição retorne falso\n",
    "fimse\n",
    "instruções após executar as instruções de condição verdadeira ou falsa\n",
    "````"
   ]
  },
  {
   "cell_type": "code",
   "execution_count": null,
   "metadata": {
    "colab": {
     "base_uri": "https://localhost:8080/",
     "height": 51
    },
    "colab_type": "code",
    "executionInfo": {
     "elapsed": 615,
     "status": "ok",
     "timestamp": 1580961339529,
     "user": {
      "displayName": "Edson Melo de Souza",
      "photoUrl": "https://lh3.googleusercontent.com/a-/AAuE7mAcRvHH8bijoUTg7dLxr2LPgB2TvuA0cNSMLx-PeQ=s64",
      "userId": "00366167566600782318"
     },
     "user_tz": 180
    },
    "id": "RNMFCc1bAPdF",
    "outputId": "49e2b938-e79d-453d-ae24-7b2e1ee9ad01"
   },
   "outputs": [],
   "source": [
    "if 10 > 20:\n",
    "    print('Verdadeiro')\n",
    "else:\n",
    "    print('Falso')\n",
    "print('Processamento após o IF')"
   ]
  },
  {
   "cell_type": "markdown",
   "metadata": {
    "colab_type": "text",
    "id": "qHtBxNy1o8Dd"
   },
   "source": [
    "**Desvio Condicional Aninhado (Encadeado)**\n",
    "\n",
    "xistem situações nas quais é necessário verificar condições de teste sucessivas, onde uma ação será executada caso um conjunto anterior de ações seja satisfeito. Podemos usar para resolver esse tipo de problemas uma estrutura denominada Desvio Condicional Aninhado, que nada mais é do que o encadeamento de estruturas de decisão compostas em um algoritmo. Também chamamos a esse tipo de estrutura de Desvio Condicional Encadeado, por este motivo.\n",
    "\n",
    "**Pseudocódigo**\n",
    "````\n",
    "se (condição 1) então\n",
    "    instruções caso condição 1 retorne verdadeiro\n",
    "senão\n",
    "    se (condição 2) então\n",
    "        instruções caso condição 2 retorne verdadeiro\n",
    "    senão\n",
    "        instruções caso condição 2 retorne falso\n",
    "   fimse\n",
    "fimse\n",
    "````"
   ]
  },
  {
   "cell_type": "code",
   "execution_count": null,
   "metadata": {
    "colab": {
     "base_uri": "https://localhost:8080/",
     "height": 34
    },
    "colab_type": "code",
    "executionInfo": {
     "elapsed": 660,
     "status": "ok",
     "timestamp": 1580961596263,
     "user": {
      "displayName": "Edson Melo de Souza",
      "photoUrl": "https://lh3.googleusercontent.com/a-/AAuE7mAcRvHH8bijoUTg7dLxr2LPgB2TvuA0cNSMLx-PeQ=s64",
      "userId": "00366167566600782318"
     },
     "user_tz": 180
    },
    "id": "cu_bzl7IvT0M",
    "outputId": "d6edcabe-771a-4f04-b7c4-98b4b0a8c683"
   },
   "outputs": [],
   "source": [
    "if 10 == 11:\n",
    "    print('10 é igual a 11: ', 10, '=', 11)\n",
    "else:\n",
    "    if 10 > 11:\n",
    "        print('10 é maior que 11: ', 10, '>', 11)\n",
    "    else:\n",
    "        print('10 é menor que 11: ', 10, '<', 11)"
   ]
  },
  {
   "cell_type": "code",
   "execution_count": null,
   "metadata": {
    "colab": {
     "base_uri": "https://localhost:8080/",
     "height": 34
    },
    "colab_type": "code",
    "executionInfo": {
     "elapsed": 611,
     "status": "ok",
     "timestamp": 1580962089904,
     "user": {
      "displayName": "Edson Melo de Souza",
      "photoUrl": "https://lh3.googleusercontent.com/a-/AAuE7mAcRvHH8bijoUTg7dLxr2LPgB2TvuA0cNSMLx-PeQ=s64",
      "userId": "00366167566600782318"
     },
     "user_tz": 180
    },
    "id": "19n-RLM0vT0V",
    "outputId": "1830ad9a-cffd-49ea-c3da-909bf9e93483"
   },
   "outputs": [],
   "source": [
    "# outro exemplo com duas condições\n",
    "x = 10\n",
    "y = 11\n",
    "z = 5\n",
    "\n",
    "if x <= y or z < y:\n",
    "    print('É verdadeiro!!!')\n",
    "else:\n",
    "    print('É falso!!!')\n"
   ]
  },
  {
   "cell_type": "markdown",
   "metadata": {
    "colab_type": "text",
    "id": "3UE205DYqN_J"
   },
   "source": [
    "**Desvio Condicional (if-elif-else)**\n",
    "\n",
    "Este tipo de desvio ocorre quando há necessidade de realizar o teste lógico quando existir mais de uma condição alternativa que precisa ser verificada. Neste caso devemos utilizar o **elif** para avaliar as expressões intermediárias antes de usar o **else**, da seguinte forma:"
   ]
  },
  {
   "cell_type": "code",
   "execution_count": null,
   "metadata": {
    "colab": {
     "base_uri": "https://localhost:8080/",
     "height": 34
    },
    "colab_type": "code",
    "executionInfo": {
     "elapsed": 678,
     "status": "ok",
     "timestamp": 1580961999826,
     "user": {
      "displayName": "Edson Melo de Souza",
      "photoUrl": "https://lh3.googleusercontent.com/a-/AAuE7mAcRvHH8bijoUTg7dLxr2LPgB2TvuA0cNSMLx-PeQ=s64",
      "userId": "00366167566600782318"
     },
     "user_tz": 180
    },
    "id": "PwQwplDoqWnf",
    "outputId": "91263d1f-2c16-41bd-a2bd-65e435b5797e"
   },
   "outputs": [],
   "source": [
    "idade = 18\n",
    "if idade < 12:\n",
    "    print('crianca')\n",
    "elif idade < 18:\n",
    "    print('adolescente')\n",
    "elif idade < 60:\n",
    "    print('adulto')\n",
    "else:\n",
    "    print('idoso')"
   ]
  },
  {
   "cell_type": "markdown",
   "metadata": {},
   "source": [
    "# Resposta do Desafio\n",
    "Elaborar um algoritmo que receba três números quaisquer e apresente-os na saída ordenados de forma crescente"
   ]
  },
  {
   "cell_type": "code",
   "execution_count": null,
   "metadata": {},
   "outputs": [],
   "source": [
    "a = 8\n",
    "b = 8\n",
    "c = -8\n",
    "tmp = 0\n",
    "\n",
    "if (a > c):\n",
    "    tmp = c\n",
    "    c = a\n",
    "    a = tmp\n",
    "\n",
    "if (a > b):\n",
    "    tmp = b\n",
    "    b = a\n",
    "    a = tmp\n",
    "\n",
    "if (b > c):\n",
    "    tmp = c\n",
    "    c = b\n",
    "    b = tmp\n",
    "\n",
    "print(a, b, c)\n",
    "\n",
    "# Explicação mais detalhada\n",
    "# https://www.pythonprogressivo.net/2018/02/python-tres-numeros-em-ordem-decrescente.html"
   ]
  }
 ],
 "metadata": {
  "colab": {
   "collapsed_sections": [
    "psZEexUhs5G5"
   ],
   "name": "aula_02_desvio_condicional_e_repeticao.ipynb",
   "provenance": []
  },
  "kernelspec": {
   "display_name": "Python 3",
   "language": "python",
   "name": "python3"
  },
  "language_info": {
   "codemirror_mode": {
    "name": "ipython",
    "version": 3
   },
   "file_extension": ".py",
   "mimetype": "text/x-python",
   "name": "python",
   "nbconvert_exporter": "python",
   "pygments_lexer": "ipython3",
   "version": "3.8.5"
  }
 },
 "nbformat": 4,
 "nbformat_minor": 4
}
