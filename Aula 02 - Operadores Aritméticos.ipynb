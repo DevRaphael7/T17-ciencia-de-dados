{
 "cells": [
  {
   "cell_type": "markdown",
   "metadata": {
    "colab_type": "text",
    "id": "iUkmowUDQqG7"
   },
   "source": [
    "## **Aula 02** - Operadores Aritméticos\n",
    "\n",
    "**Objetivo**: Apresentar os conceitos sobre variáveis e operadores aritméticos em Python.\n",
    "\n",
    "Documentação Python 3.8.1: https://docs.python.org/3/library/index.html"
   ]
  },
  {
   "cell_type": "markdown",
   "metadata": {
    "colab_type": "text",
    "id": "afJSK97vcTFx"
   },
   "source": [
    "### **Variáveis**\n",
    "Variável é um objeto localizado na memória, capaz de armazenar e representar um valor ou expressão por meio de um nome (nome da variável)\n",
    "\n",
    "Existem três tipos básicos de variáveis em Python:\n",
    "\n",
    "* Numérico\n",
    "* Texto ou *string*\n",
    "* Lógico ou *booleano*"
   ]
  },
  {
   "cell_type": "markdown",
   "metadata": {
    "colab_type": "text",
    "id": "jf6e-9bJriN6"
   },
   "source": [
    "**Observações Importantes**\n",
    "* Em Python não há a necessidade especificar que tipo uma variável deve ser, pois a própria linguagem reconhece o tipo de acordo com o valor atribuído.\n",
    "* Python é Case Sensitive, ou seja, diferencia letras maiúsculas de minúsculas.\n",
    "* Para definirmos o nome de variáveis, temos que iniciar utilizando um caractere que esteja no intervalo de `a` à `z` ou `A` à `Z` e de `0` a `9`. A única exceção a esta regra é o caractere underscore \"`_`\".\n",
    "* Podemos utilizar números, desde que seja o segundo caractere da sequência.\n",
    "* Também é desejável e prudente que os nomes tenham relação com o seu significado.\n",
    "\n",
    "<hr>\n",
    "\n",
    "## **Executando Comandos**\n",
    "\n",
    "Para executar os comandos, pressione o botão de \"**play**\" ou então, dentro da \"caixa de código\", pressione as teclas <code>CTRL+ENTER</code>\n",
    "\n",
    "<hr>\n",
    "\n",
    "Acesso os links abaixo para fixar os conceitos aprendidos na aula.\n",
    "\n",
    "* Youtube\n",
    "  + [Como usar o Google Colab](https://youtu.be/Ai9qn9YII78)\n",
    "  + [O que é Memória RAM](https://youtu.be/fFN9tKUJ81E)\n",
    "  + [Memória RAM](https://youtu.be/--dDCYEWJVg)\n",
    "  + [Variáveis de Memória](https://youtu.be/PVjpBcps100)\n",
    "\n",
    "* Leitura Recomendada\n",
    "  + [Variáveis e Memória](https://www.ic.unicamp.br/~wainer/cursos/2s2011/Cap02-VariaveisMemoria-texto.pdf)\n",
    "  + [O que são Variáveis?](https://www.people.com.br/noticias/informatica/o-que-sao-variaveis-e-para-que-elas-servem-na-programacao)\n",
    "  \n",
    " <hr>"
   ]
  },
  {
   "cell_type": "markdown",
   "metadata": {
    "colab_type": "text",
    "id": "q2yvk5i-8i71"
   },
   "source": [
    "##### **Variáveis Numéricas**\n",
    "\n",
    "Podem ser de dois tipos:\n",
    "* `int`: número inteiro\n",
    "* `float`: ponto flutuante (número real)"
   ]
  },
  {
   "cell_type": "code",
   "execution_count": null,
   "metadata": {
    "colab": {},
    "colab_type": "code",
    "id": "nITi9FobeHp8"
   },
   "outputs": [],
   "source": [
    "# isto é um comentário\n",
    "x = 10    # inteiro\n",
    "y = 7.3   # float\n",
    "\n",
    "print(type(x))\n",
    "print(y)"
   ]
  },
  {
   "cell_type": "code",
   "execution_count": null,
   "metadata": {
    "colab": {},
    "colab_type": "code",
    "id": "l7k8Fp-Uerht"
   },
   "outputs": [],
   "source": [
    "# Também podemos incrementar a saída usando o caracter especial \"%\".\n",
    "# Ele permite que seja feita uma formatação nos números.\n",
    "print(\"O valor da variável 'y' é: %.02f\" %y) # duas casas decimais"
   ]
  },
  {
   "cell_type": "markdown",
   "metadata": {
    "colab_type": "text",
    "id": "i7a9LFwY-4iG"
   },
   "source": [
    "##### **Variáveis *String* ou Texto**\n",
    "\n",
    "No Python qualquer texto é uma *string*, mesmo que seja um número, desde que envolvido entre aspas."
   ]
  },
  {
   "cell_type": "code",
   "execution_count": null,
   "metadata": {
    "colab": {},
    "colab_type": "code",
    "id": "tnSM7nsM_Xnn"
   },
   "outputs": [],
   "source": [
    "curso = \"Ciências da Computação\"\n",
    "disciplina = \"Ciências de Dados\"\n",
    "ano = \"2020\"\n",
    "\n",
    "print(curso)\n",
    "print(ano)"
   ]
  },
  {
   "cell_type": "code",
   "execution_count": null,
   "metadata": {
    "colab": {},
    "colab_type": "code",
    "id": "8ao0UxhBe-3i"
   },
   "outputs": [],
   "source": [
    "# Em algumas situações é necessária a concatenação (juntar coisas) de números com texto, quando se trata de variáveis. Para isso usamos o str() \n",
    "\n",
    "numero = 25\n",
    "texto = \"Hoje é dia \"\n",
    "\n",
    "print(texto + str(numero))"
   ]
  },
  {
   "cell_type": "code",
   "execution_count": null,
   "metadata": {
    "colab": {},
    "colab_type": "code",
    "id": "UpbZYhkhgzBE"
   },
   "outputs": [],
   "source": [
    "# E se precisarmos colocar um número \"no meio\" do texto?\n",
    "nome = \"Edson Melo tem\"\n",
    "idade = 30\n",
    "complemento = \"anos\"\n",
    "\n",
    "print(nome, idade, complemento)"
   ]
  },
  {
   "cell_type": "code",
   "execution_count": null,
   "metadata": {
    "colab": {},
    "colab_type": "code",
    "id": "hI1sedJdhYDx"
   },
   "outputs": [],
   "source": [
    "# Uma cocatenação de caracteres mais sofisticada\n",
    "formato = '{0} {1} {2}'\n",
    "print(formato.format(nome, idade, complemento))"
   ]
  },
  {
   "cell_type": "markdown",
   "metadata": {
    "colab_type": "text",
    "id": "5M1BA2U1iwoG"
   },
   "source": [
    "### **Operadores Aritméticos**\n"
   ]
  },
  {
   "cell_type": "markdown",
   "metadata": {
    "colab_type": "text",
    "id": "PZbiSVnFjQli"
   },
   "source": [
    "| Operação      | Operador |\n",
    "|---------------|:--------:|\n",
    "| Adição        |     +    |\n",
    "| Subtração     |     -    |\n",
    "| Multiplicação |     *    |\n",
    "| Divisão       |     /    |\n",
    "| Exponenciação |    **    |\n",
    "| Parte Inteira |    //    |\n",
    "| Módulo        |     %    |"
   ]
  },
  {
   "cell_type": "code",
   "execution_count": null,
   "metadata": {},
   "outputs": [],
   "source": [
    "print(5 + 7)\n",
    "print(5 - 7)\n",
    "print(5 * 7)\n",
    "print(5 / 7)\n",
    "print(5 ** 7)\n",
    "print(5 // 7)\n",
    "print(5 % 7)"
   ]
  },
  {
   "cell_type": "code",
   "execution_count": null,
   "metadata": {
    "colab": {},
    "colab_type": "code",
    "id": "Qe83OEH2kPw6"
   },
   "outputs": [],
   "source": [
    "# variáveis\n",
    "a = 10\n",
    "b = 2"
   ]
  },
  {
   "cell_type": "code",
   "execution_count": null,
   "metadata": {
    "colab": {},
    "colab_type": "code",
    "id": "YrmzCtYzkXHT"
   },
   "outputs": [],
   "source": [
    "print('Soma:', a + b)\n",
    "print('Subtração:', a - b)\n",
    "print('Multiplicação:', a * b)\n",
    "print('Exponenciação:', a ** b)\n",
    "print('Parte inteira de um número:', a // b)\n",
    "print('Módulo ou resto da divisão:', a % b)"
   ]
  }
 ],
 "metadata": {
  "colab": {
   "collapsed_sections": [],
   "name": "Copy of aula_01_operadores_matematicos.ipynb",
   "provenance": []
  },
  "kernelspec": {
   "display_name": "Python 3",
   "language": "python",
   "name": "python3"
  },
  "language_info": {
   "codemirror_mode": {
    "name": "ipython",
    "version": 3
   },
   "file_extension": ".py",
   "mimetype": "text/x-python",
   "name": "python",
   "nbconvert_exporter": "python",
   "pygments_lexer": "ipython3",
   "version": "3.8.5"
  }
 },
 "nbformat": 4,
 "nbformat_minor": 4
}
