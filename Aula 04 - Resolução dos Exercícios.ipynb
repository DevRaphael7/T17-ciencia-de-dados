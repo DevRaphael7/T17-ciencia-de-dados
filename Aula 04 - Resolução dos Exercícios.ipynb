{
 "cells": [
  {
   "cell_type": "markdown",
   "metadata": {
    "colab_type": "text",
    "id": "dNqUTkFmvWMQ"
   },
   "source": [
    "### **Aula 04** - Desvio Condicional e Estrutura de Repetição"
   ]
  },
  {
   "cell_type": "markdown",
   "metadata": {
    "colab_type": "text",
    "id": "psZEexUhs5G5"
   },
   "source": [
    "### **Resolução**\n",
    "\n",
    "Todos os exercícios deverão utilizar o comando input() para a leitura dos dados.\n",
    "1. Elabore um programa que leia um número do teclado e apresente a sua tabuada.\n",
    "2. Faça um *upgrade* no programa anterior, mostrando apenas os números ímpares da tabuada.\n",
    "3. Construir um programa que calcule a média aritmética de vários valores inteiros positivos. O final da leitura acontecerá quando for lido um valor negativo. Ao final, deverá ser apresentado: total da soma, quantidade de valores digitados e a média.\n",
    "4. Faça um programa que leia o peso e a altura de uma pessoa, calcule o seu IMC e mostre o seu estado nutricional. \n",
    "\n",
    "**Observações:**\n",
    "* Utilizar *if-elif-else*\n",
    "* O IMC deverá conter apenas duas casas decimais\n",
    "<br><br>\n",
    "\n",
    "<center>\n",
    "Equação para o cálculo\n",
    "<br><br> \n",
    "$\n",
    "\\large IMC = \\frac{peso}{altura^2}\n",
    "$\n",
    "<br><br>\n",
    "<strong>Tabela do Estado Nutricional</strong>\n",
    "</center>\n",
    "\n",
    "| IMC               | Resultado        |\n",
    "|-------------------|------------------|\n",
    "| Menos do que 18,5 | Abaixo do peso   |\n",
    "| Entre 18,5 e 24,9 | Peso normal      |\n",
    "| Entre 25 e 29,9   | Sobrepeso        |\n",
    "| Entre 30 e 34,9   | Obesidade grau 1 |\n",
    "| Entre 35 e 39,9   | Obesidade grau 2 |\n",
    "| Mais do que 40    | Obesidade grau 3 |\n"
   ]
  },
  {
   "cell_type": "markdown",
   "metadata": {},
   "source": [
    "# Resolução"
   ]
  },
  {
   "cell_type": "code",
   "execution_count": null,
   "metadata": {
    "colab": {},
    "colab_type": "code",
    "id": "Ee0Ch9mNupIT"
   },
   "outputs": [],
   "source": [
    "# 1. Elabore um programa que leia um número do teclado e apresente a sua tabuada.\n",
    "\n",
    "tabuada = int(input('Digite qual tabuada deseja calcular\\n'))\n",
    "for n in range(1, 11):\n",
    "    print(tabuada, \"X\", n, \"=\", tabuada * n)"
   ]
  },
  {
   "cell_type": "code",
   "execution_count": null,
   "metadata": {
    "colab": {},
    "colab_type": "code",
    "id": "AC78gGx-vT0Z"
   },
   "outputs": [],
   "source": [
    "# 2. Faça um upgrade no programa anterior, mostrando apenas os números ímpares da tabuada.\n",
    "\n",
    "tabuada = int(input('Digite qual tabuada deseja calcular\\n'))\n",
    "for n in range(1, 11):\n",
    "    if (tabuada * n) % 2 == 1:\n",
    "        print(tabuada, \"X\", n, \"=\", tabuada * n)"
   ]
  },
  {
   "cell_type": "code",
   "execution_count": null,
   "metadata": {
    "colab": {},
    "colab_type": "code",
    "id": "OSI3EDdRvb7U"
   },
   "outputs": [],
   "source": [
    "# 3. Construir um programa que calcule a média aritmética de vários valores inteiros positivos.\n",
    "# O final da leitura acontecerá quando for lido um valor negativo. Ao final, deverá ser apresentado: total da soma,\n",
    "# quantidade de valores digitados e a média.\n",
    "\n",
    "valor = 0\n",
    "soma = 0\n",
    "contador = 0\n",
    "\n",
    "while valor >= 0:\n",
    "    valor = int(input('Digite o valor: '))\n",
    "    if valor >= 0:\n",
    "        contador += 1\n",
    "        soma += valor\n",
    "        \n",
    "print('')\n",
    "print('Soma dos valores..........:', soma)\n",
    "print('Total de valores digitados:', contador)\n",
    "print('Média dos valores.........:', soma/contador)"
   ]
  },
  {
   "cell_type": "code",
   "execution_count": null,
   "metadata": {
    "colab": {},
    "colab_type": "code",
    "id": "VQuVlN--v_-u"
   },
   "outputs": [],
   "source": [
    "# 4. Faça um programa que leia o peso e a altura de uma pessoa, calcule o seu IMC e mostre o seu estado nutricional.\n",
    "peso = 114\n",
    "altura = 1.78\n",
    "imc = peso/(altura*altura)\n",
    "\n",
    "status = ''\n",
    "if imc < 18.5:\n",
    "    status = 'Abaixo do peso'\n",
    "elif (imc > 18.5 and imc < 24.9):\n",
    "    status = 'Peso normal'\n",
    "elif (imc > 25 and imc < 29.9):\n",
    "    status = 'Sobrepeso'\n",
    "elif (imc > 30 and imc < 34.9):\n",
    "    status = 'Obesidade grau 1'\n",
    "elif (imc > 35 and imc < 39.9):\n",
    "    status = 'Obesidade grau 2'\n",
    "else:\n",
    "    status = 'Obesidade grau 3'\n",
    "\n",
    "print('Seu IMC é:', round(imc,2), \"(\", status, \")\")"
   ]
  }
 ],
 "metadata": {
  "colab": {
   "collapsed_sections": [
    "psZEexUhs5G5"
   ],
   "name": "aula_02_desvio_condicional_e_repeticao.ipynb",
   "provenance": []
  },
  "kernelspec": {
   "display_name": "Python 3",
   "language": "python",
   "name": "python3"
  },
  "language_info": {
   "codemirror_mode": {
    "name": "ipython",
    "version": 3
   },
   "file_extension": ".py",
   "mimetype": "text/x-python",
   "name": "python",
   "nbconvert_exporter": "python",
   "pygments_lexer": "ipython3",
   "version": "3.8.5"
  }
 },
 "nbformat": 4,
 "nbformat_minor": 4
}
