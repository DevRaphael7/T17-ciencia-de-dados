{
 "cells": [
  {
   "cell_type": "markdown",
   "metadata": {
    "colab_type": "text",
    "id": "iUkmowUDQqG7"
   },
   "source": [
    "## **Aula 03** - Introdução: Operadores Aritméticos, Relacionais e Lógicos (*Continuação da aula 02*)\n",
    "\n",
    "**Objetivo**: Apresentar os conceitos sobre variáveis, operadores aritméticos, relacionais e lógicos utilizados em Python.\n",
    "\n",
    "Documentação Python 3.8.1: https://docs.python.org/3/library/index.html"
   ]
  },
  {
   "cell_type": "markdown",
   "metadata": {
    "colab_type": "text",
    "id": "afJSK97vcTFx"
   },
   "source": [
    "### **Variáveis**\n",
    "Variável é um objeto localizado na memória, capaz de armazenar e representar um valor ou expressão por meio de um nome (nome da variável)\n",
    "\n",
    "Existem três tipos básicos de variáveis em Python:\n",
    "\n",
    "* Numérico\n",
    "* Texto ou *string*\n",
    "* Lógico ou *booleano*"
   ]
  },
  {
   "cell_type": "markdown",
   "metadata": {
    "colab_type": "text",
    "id": "jf6e-9bJriN6"
   },
   "source": [
    "**Observações Importantes**\n",
    "* Em Python não há a necessidade especificar que tipo uma variável deve ser, pois a própria linguagem reconhece o tipo de acordo com o valor atribuído.\n",
    "* Python é Case Sensitive, ou seja, diferencia letras maiúsculas de minúsculas.\n",
    "* Para definirmos o nome de variáveis, temos que iniciar utilizando um caractere que esteja no intervalo de `a` à `z` ou `A` à `Z` e de `0` a `9`. A única exceção a esta regra é o caractere underscore \"`_`\".\n",
    "* Podemos utilizar números, desde que seja o segundo caractere da sequência.\n",
    "* Também é desejável e prudente que os nomes tenham relação com o seu significado.\n",
    "\n",
    "\n",
    "<hr>\n",
    "\n",
    "## **Executando Comandos**\n",
    "\n",
    "Para executar os comandos, pressione o botão de \"**play**\" ou então, dentro da \"caixa de código\", pressione as teclas <code>CTRL+ENTER</code>\n",
    "\n",
    "<hr>\n"
   ]
  },
  {
   "cell_type": "markdown",
   "metadata": {
    "colab_type": "text",
    "id": "q2yvk5i-8i71"
   },
   "source": [
    "##### **Variáveis Numéricas**\n",
    "\n",
    "Podem ser de dois tipos:\n",
    "* `int`: número inteiro\n",
    "* `float`: ponto flutuante (número real)"
   ]
  },
  {
   "cell_type": "code",
   "execution_count": null,
   "metadata": {
    "colab": {},
    "colab_type": "code",
    "id": "nITi9FobeHp8"
   },
   "outputs": [],
   "source": [
    "# isto é um comentário\n",
    "x = 10    # inteiro\n",
    "y = 7.3   # float\n",
    "\n",
    "print(type(x))\n",
    "print(y)"
   ]
  },
  {
   "cell_type": "code",
   "execution_count": null,
   "metadata": {
    "colab": {},
    "colab_type": "code",
    "id": "l7k8Fp-Uerht"
   },
   "outputs": [],
   "source": [
    "# Também podemos incrementar a saída usando o caracter especial \"%\".\n",
    "# Ele permite que seja feita uma formatação nos números.\n",
    "print(\"O valor da variável 'y' é: %.02f\" %y) # duas casas decimais"
   ]
  },
  {
   "cell_type": "markdown",
   "metadata": {
    "colab_type": "text",
    "id": "i7a9LFwY-4iG"
   },
   "source": [
    "##### **Variáveis *String* ou Texto**\n",
    "\n",
    "No Python qualquer texto é uma *string*, mesmo que seja um número, desde que envolvido entre aspas."
   ]
  },
  {
   "cell_type": "code",
   "execution_count": null,
   "metadata": {
    "colab": {},
    "colab_type": "code",
    "id": "tnSM7nsM_Xnn"
   },
   "outputs": [],
   "source": [
    "curso = \"Ciências da Computação\"\n",
    "disciplina = \"Ciências de Dados\"\n",
    "ano = \"2020\"\n",
    "\n",
    "print(curso)\n",
    "print(ano)"
   ]
  },
  {
   "cell_type": "code",
   "execution_count": null,
   "metadata": {
    "colab": {},
    "colab_type": "code",
    "id": "8ao0UxhBe-3i"
   },
   "outputs": [],
   "source": [
    "# Em algumas situações é necessária a concatenação (juntar coisas) de números com texto, quando se trata de variáveis. Para isso usamos o str() \n",
    "\n",
    "numero = 25\n",
    "texto = \"Hoje é dia \"\n",
    "\n",
    "print(texto + str(numero))"
   ]
  },
  {
   "cell_type": "code",
   "execution_count": null,
   "metadata": {
    "colab": {},
    "colab_type": "code",
    "id": "UpbZYhkhgzBE"
   },
   "outputs": [],
   "source": [
    "# E se precisarmos colocar um número \"no meio\" do texto?\n",
    "nome = \"Edson Melo tem\"\n",
    "idade = 30\n",
    "complemento = \"anos\"\n",
    "\n",
    "print(nome, idade, complemento)"
   ]
  },
  {
   "cell_type": "code",
   "execution_count": null,
   "metadata": {
    "colab": {},
    "colab_type": "code",
    "id": "hI1sedJdhYDx"
   },
   "outputs": [],
   "source": [
    "# Uma cocatenação mais sofisticada\n",
    "formato = '{0} {1} {2}'\n",
    "print(formato.format(nome, idade, complemento))"
   ]
  },
  {
   "cell_type": "markdown",
   "metadata": {
    "colab_type": "text",
    "id": "5M1BA2U1iwoG"
   },
   "source": [
    "### **Operadores Aritméticos**\n"
   ]
  },
  {
   "cell_type": "markdown",
   "metadata": {
    "colab_type": "text",
    "id": "PZbiSVnFjQli"
   },
   "source": [
    "| Operação      | Operador |\n",
    "|---------------|:--------:|\n",
    "| Adição        |     +    |\n",
    "| Subtração     |     -    |\n",
    "| Multiplicação |     *    |\n",
    "| Divisão       |     /    |\n",
    "| Exponenciação |    **    |\n",
    "| Parte Inteira |    //    |\n",
    "| Módulo        |     %    |"
   ]
  },
  {
   "cell_type": "code",
   "execution_count": 1,
   "metadata": {},
   "outputs": [
    {
     "name": "stdout",
     "output_type": "stream",
     "text": [
      "12\n",
      "-2\n",
      "35\n",
      "0.7142857142857143\n",
      "78125\n",
      "0\n",
      "5\n"
     ]
    }
   ],
   "source": [
    "print(5 + 7)\n",
    "print(5 - 7)\n",
    "print(5 * 7)\n",
    "print(5 / 7)\n",
    "print(5 ** 7)\n",
    "print(5 // 7)\n",
    "print(5 % 7)"
   ]
  },
  {
   "cell_type": "code",
   "execution_count": null,
   "metadata": {
    "colab": {},
    "colab_type": "code",
    "id": "Qe83OEH2kPw6"
   },
   "outputs": [],
   "source": [
    "# variáveis\n",
    "a = 10\n",
    "b = 2"
   ]
  },
  {
   "cell_type": "code",
   "execution_count": null,
   "metadata": {
    "colab": {},
    "colab_type": "code",
    "id": "YrmzCtYzkXHT"
   },
   "outputs": [],
   "source": [
    "print('Soma:', a + b)\n",
    "print('Subtração:', a - b)\n",
    "print('Multiplicação:', a * b)\n",
    "\n",
    "print('Exponenciação:', a ** b)\n",
    "print('Exponenciação:', pow(a,b) )\n",
    "\n",
    "print('Parte inteira de um número:', a // b)\n",
    "print('Módulo ou resto da divisão:', a % b)"
   ]
  },
  {
   "cell_type": "code",
   "execution_count": null,
   "metadata": {
    "colab": {},
    "colab_type": "code",
    "id": "z7WbTO-_yiSS"
   },
   "outputs": [],
   "source": [
    "# Arredondamento direto ou com casas decimais\n",
    "print('round (0):', round(7.4555))\n",
    "print('round (1):', round(7.4555, 1))\n",
    "print('round (2):', round(7.4555, 2))\n",
    "print('round (3):', round(7.4555, 3))"
   ]
  },
  {
   "cell_type": "markdown",
   "metadata": {},
   "source": [
    "<hr>\n",
    "\n",
    "## *Continuação da Aula 02*"
   ]
  },
  {
   "cell_type": "markdown",
   "metadata": {
    "colab_type": "text",
    "id": "u3RB4237lxG7"
   },
   "source": [
    "### **Operadores Relacionais**\n",
    "são os operadores utilizados para realizar **comparações** entre números, textos, entre outros."
   ]
  },
  {
   "cell_type": "markdown",
   "metadata": {
    "colab_type": "text",
    "id": "sm2Lyg2cnHuJ"
   },
   "source": [
    "| Descrição        | Operador |\n",
    "|------------------|:--------:|\n",
    "| Maior que        |     >    |\n",
    "| Menor que        |     <    |\n",
    "| Igual a          |    ==    |\n",
    "| Maior ou igual a |    >=    |\n",
    "| Menor ou igual a |    <=    |\n",
    "| Diferente        |    !=    |\n",
    "\n",
    "#### Links de Apoio\n",
    "* [Operadores Relacionais 1](https://youtu.be/dbnAeLjzetY)\n",
    "* [Operadores Relacionais 2](https://youtu.be/mM5anx39D24)"
   ]
  },
  {
   "cell_type": "code",
   "execution_count": null,
   "metadata": {
    "colab": {},
    "colab_type": "code",
    "id": "dQHh5ABJnPd1"
   },
   "outputs": [],
   "source": [
    "# Exemplos com variáveis\n",
    "a = 10\n",
    "b = 35\n",
    "\n",
    "print('Igual a: ', a == b)\n",
    "print('Maior que: ', a > b)\n",
    "print('Menor que: ', a < b)\n",
    "print('Maior ou igual a: ', a >= b)\n",
    "print('Menor ou igual a: ', a <= b)\n",
    "print('Diferente de: ', a != b)"
   ]
  },
  {
   "cell_type": "markdown",
   "metadata": {
    "colab_type": "text",
    "id": "LbJOX4iOoNz2"
   },
   "source": [
    "### **Operadores Lógicos**\n",
    "\n",
    "Esses operadores permitem unir duas (2) expressões, ligando-as com os **conectivos lógicos matemáticos** e são:\n",
    "\n",
    "| Operador Lógico \t| Função    \t| Prioridade \t|\n",
    "|-----------------\t|-----------\t|:----------:\t|\n",
    "| NOT             \t| Negação   \t|      1     \t|\n",
    "| AND             \t| Conjunção \t|      2     \t|\n",
    "| OR              \t| Disjunção \t|      3     \t|\n",
    "\n",
    "#### Links de Apoio\n",
    "* [Conectivos Lógicos](https://youtu.be/i8jbzEWEOYk)\n",
    "* [Raciocínio Lógico](https://youtu.be/vETPkwrDwQI)\n",
    "* [Tabela Verdade](https://www.youtube.com/watch?v=EmIGLGUO7cY&t=215s)"
   ]
  },
  {
   "cell_type": "code",
   "execution_count": null,
   "metadata": {
    "colab": {},
    "colab_type": "code",
    "id": "60aPP-J5olUn"
   },
   "outputs": [],
   "source": [
    "a = 1\n",
    "b = 5\n",
    "c = 2\n",
    "d = 6\n",
    "\n",
    "print( (a > 1) and (c < 3) )\n",
    "print( (b < d) or (a > 1) )\n",
    "print(  not (( c > d) and (d == b)) )"
   ]
  },
  {
   "cell_type": "markdown",
   "metadata": {
    "colab_type": "text",
    "id": "xKggQ3bCqInX"
   },
   "source": [
    "#### **Operadores Lógicos**\n",
    "\n",
    "|   A   |   B   | A and B | A or B |\n",
    "|:-----:|:-----:|:-------:|:------:|\n",
    "|  True |  True |   True  |  True  |\n",
    "|  True | False |  False  |  True  |\n",
    "| False |  True |  False  |  True  |\n",
    "| False | False |  False  |  False |"
   ]
  },
  {
   "cell_type": "markdown",
   "metadata": {
    "colab_type": "text",
    "id": "PSiZ8aSR62YW"
   },
   "source": [
    "### **Leitura do Teclado (Entrada de Dados)**\n",
    "\n",
    "A função utilizada para efetuar a leitura de dados a partir do teclado é a input()."
   ]
  },
  {
   "cell_type": "code",
   "execution_count": null,
   "metadata": {
    "colab": {},
    "colab_type": "code",
    "id": "b2LZWRKf2uyY"
   },
   "outputs": [],
   "source": [
    "entrada  = input('Digite um nome:')\n",
    "print('Olá', entrada)"
   ]
  },
  {
   "cell_type": "code",
   "execution_count": null,
   "metadata": {
    "colab": {},
    "colab_type": "code",
    "id": "my-COilM3Qoj"
   },
   "outputs": [],
   "source": [
    "entrada = input('Digite um valor:')\n",
    "print('A soma entre 2 e', entrada , 'é:', 2 + int(entrada))"
   ]
  },
  {
   "cell_type": "markdown",
   "metadata": {
    "colab_type": "text",
    "id": "SiRG4b28kn10"
   },
   "source": [
    "### **Conversões**\n",
    "* Absoluto abs(x)\n",
    "* Conveter para Inteiro: int(x)\n",
    "* Converter para Real: float(x)\n",
    "* Converter para String: str(valor)"
   ]
  },
  {
   "cell_type": "markdown",
   "metadata": {
    "colab_type": "text",
    "id": "4JFG_7pYV8zM"
   },
   "source": [
    "<hr>"
   ]
  },
  {
   "cell_type": "markdown",
   "metadata": {
    "colab_type": "text",
    "id": "4TJutIL0qUTk"
   },
   "source": [
    "<h1>Exercícios de Fixação</h1>"
   ]
  },
  {
   "cell_type": "markdown",
   "metadata": {
    "colab_type": "text",
    "id": "hoIyWH-wqvkG"
   },
   "source": [
    "\n",
    "\n",
    "1.   Implemente um programa que escreve na tela a frase \"Meu primeiro programa em Python!!!\".\n",
    "2.   Você foi contratado por uma escola pra fazer o sistema de boletim dos alunos. Como primeiro passo, escreva um programa que produza a seguinte saída (Não é necessário manter o alinhamento):\n",
    "\n",
    "| Aluno(a)        \t|  Nota \t|\n",
    "|-----------------\t|------:\t|\n",
    "| Ana Maria       \t|  9.00 \t|\n",
    "| José Carlos     \t|  7.20 \t|\n",
    "| Júlio Martins   \t|  8.00 \t|\n",
    "| Ubiratan Santos \t| 10.00 \t|\n",
    "\n",
    "3. Utilizando <strong>variáveis</strong>, faça um programa para realizar o seguinte cálculo:\n",
    "10 + 20 - 30 + (45 * 3) / 8 ** 2\n",
    "4. Faça um programa que **leia duas variáveis pelo teclado** e apresente a soma entre eles\n",
    "5. Calcule o **delta** da equação a seguir, realizando a entrada dos valores de (a, b e c) pelo teclado.\n",
    "  5.1 Exemplo: $x^2 + 12x - 13 = 0$ (a=1, b=12 e c=-13).\n"
   ]
  }
 ],
 "metadata": {
  "colab": {
   "collapsed_sections": [],
   "name": "Copy of aula_01_operadores_matematicos.ipynb",
   "provenance": []
  },
  "kernelspec": {
   "display_name": "Python 3",
   "language": "python",
   "name": "python3"
  },
  "language_info": {
   "codemirror_mode": {
    "name": "ipython",
    "version": 3
   },
   "file_extension": ".py",
   "mimetype": "text/x-python",
   "name": "python",
   "nbconvert_exporter": "python",
   "pygments_lexer": "ipython3",
   "version": "3.8.5"
  }
 },
 "nbformat": 4,
 "nbformat_minor": 4
}
