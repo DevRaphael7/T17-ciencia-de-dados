{
 "cells": [
  {
   "cell_type": "markdown",
   "metadata": {
    "colab_type": "text",
    "id": "iUkmowUDQqG7"
   },
   "source": [
    "## **Aula 01** - Introdução: Operadores Aritméticos, Relacionais e Lógicos"
   ]
  },
  {
   "cell_type": "markdown",
   "metadata": {
    "colab_type": "text",
    "id": "4TJutIL0qUTk"
   },
   "source": [
    "## Resolução"
   ]
  },
  {
   "cell_type": "markdown",
   "metadata": {
    "colab_type": "text",
    "id": "hoIyWH-wqvkG"
   },
   "source": [
    "\n",
    "\n",
    "1.   Implemente um programa que escreve na tela a frase \"Meu primeiro programa em Python!!!\".\n",
    "2.   Você foi contratado por uma escola pra fazer o sistema de boletim dos alunos. Como primeiro passo, escreva um programa que produza a seguinte saída (Não é necessário manter o alinhamento):\n",
    "\n",
    "| Aluno(a)        \t|  Nota \t|\n",
    "|-----------------\t|------:\t|\n",
    "| Ana Maria       \t|  9.00 \t|\n",
    "| José Carlos     \t|  7.20 \t|\n",
    "| Júlio Martins   \t|  8.00 \t|\n",
    "| Ubiratan Santos \t| 10.00 \t|\n",
    "\n",
    "3. Utilizando <strong>variáveis</strong>, faça um programa para realizar o seguinte cálculo:\n",
    "10 + 20 - 30 + (45 * 3) / 8 ** 2\n",
    "4. Faça um programa que **leia duas variáveis pelo teclado** e apresente a soma entre eles\n",
    "5. Calcule o **delta** da equação a seguir, realizando a entrada dos valores de (a, b e c) pelo teclado.\n",
    "  5.1 Exemplo: $x^2 + 12x - 13 = 0$ (a=1, b=12 e c=-13).\n"
   ]
  },
  {
   "cell_type": "markdown",
   "metadata": {},
   "source": [
    "## Respostas"
   ]
  },
  {
   "cell_type": "code",
   "execution_count": null,
   "metadata": {
    "colab": {},
    "colab_type": "code",
    "id": "UDWiOZSYsrsO"
   },
   "outputs": [],
   "source": [
    "# 1.\n",
    "print(\"Meu primeiro programa em Python!!!\")"
   ]
  },
  {
   "cell_type": "code",
   "execution_count": null,
   "metadata": {},
   "outputs": [],
   "source": [
    "# 2.\n",
    "print(\"Aluno\", \"Nota\")\n",
    "print(\"Ana Maria %.2f\" %9.0)\n",
    "print(\"José Carlos %.2f\" %7.2)\n",
    "print(\"Júlio Martins %.2f\" %8.0)\n",
    "print(\"Ubiratan Santos %.2f\" %10.0)"
   ]
  },
  {
   "cell_type": "code",
   "execution_count": null,
   "metadata": {
    "colab": {},
    "colab_type": "code",
    "id": "4_OQ0R7Qs4Zd"
   },
   "outputs": [],
   "source": [
    "# Outra forma de resolução do ex. 2. Realizando o alinhamento à direita dos números\n",
    "print(f\"Ana Maria \\t{9.0:>5,.02f}\")\n",
    "print(f\"José Carlos \\t{7.2:>5,.02f}\")\n",
    "print(f\"Júlio Martins \\t{8:>5,.02f}\")\n",
    "print(f\"Ubiratan Santos {10.0:>5,.02f}\")"
   ]
  },
  {
   "cell_type": "code",
   "execution_count": null,
   "metadata": {
    "colab": {},
    "colab_type": "code",
    "id": "1VYJRGbauRM2"
   },
   "outputs": [],
   "source": [
    "# 3.\n",
    "v1 = 10\n",
    "v2 = 20\n",
    "v3 = 30\n",
    "v4 = 45\n",
    "v5 = 3\n",
    "v6 = 8\n",
    "v7 = 2\n",
    "# 10 + 20 - 30 + (45 * 3) / 8 ** 2\n",
    "\n",
    "print( v1 + v2 - v3 + (v4 * v5) / v6 ** v7 )"
   ]
  },
  {
   "cell_type": "code",
   "execution_count": null,
   "metadata": {
    "colab": {},
    "colab_type": "code",
    "id": "4PUO24waYfzw"
   },
   "outputs": [],
   "source": [
    "# 4.\n",
    "n_1 = input('Digite o primeiro valor:')\n",
    "n_2 = input('Digite o segundo valor:')\n",
    "print('O resultado da soma entre', n_1, 'e', n_2, 'é:', (int(n_1) + int(n_2)))\n",
    "\n",
    "# ou\n",
    "print()\n",
    "\n",
    "n_1 = int(input('Digite o primeiro valor:'))\n",
    "n_2 = int(input('Digite o segundo valor:'))\n",
    "print('O resultado da soma entre', n_1, 'e', n_2, 'é:', (n_1 + n_2))"
   ]
  },
  {
   "cell_type": "code",
   "execution_count": null,
   "metadata": {
    "colab": {},
    "colab_type": "code",
    "id": "HAwOn5stZZPX"
   },
   "outputs": [],
   "source": [
    "# 5.\n",
    "a = 1\n",
    "b = 12\n",
    "c = -13\n",
    "delta = (b ** 2) - 4 *a * c\n",
    "print('O resultado é:', delta)"
   ]
  }
 ],
 "metadata": {
  "colab": {
   "collapsed_sections": [],
   "name": "Copy of aula_01_operadores_matematicos.ipynb",
   "provenance": []
  },
  "kernelspec": {
   "display_name": "Python 3",
   "language": "python",
   "name": "python3"
  },
  "language_info": {
   "codemirror_mode": {
    "name": "ipython",
    "version": 3
   },
   "file_extension": ".py",
   "mimetype": "text/x-python",
   "name": "python",
   "nbconvert_exporter": "python",
   "pygments_lexer": "ipython3",
   "version": "3.8.5"
  }
 },
 "nbformat": 4,
 "nbformat_minor": 4
}
