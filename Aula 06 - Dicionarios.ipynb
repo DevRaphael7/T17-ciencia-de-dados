{
 "cells": [
  {
   "cell_type": "markdown",
   "metadata": {
    "id": "ks9LiZEfi3RX"
   },
   "source": [
    "# Dicionários (***dict***)\n",
    "* O dicionário é uma estrutura de dados similar as listas, mas não ordenado. Sua estrutra é composta por <code>chave:valor</code>\n",
    "* Apesar de não ser ordenado, é indexado pela sua chave\n",
    "* Enquanto nas listas o delimitador são pares de colchetes, no dict são as chaves"
   ]
  },
  {
   "cell_type": "code",
   "execution_count": 1,
   "metadata": {
    "colab": {
     "base_uri": "https://localhost:8080/"
    },
    "id": "zBgpj0-EhOgS",
    "outputId": "481c2e50-1fbe-4c7e-af8f-14f9ef825da4"
   },
   "outputs": [
    {
     "name": "stdout",
     "output_type": "stream",
     "text": [
      "[8.5, 7.2, 8.0, 9.5, 4.5, 5.5]\n"
     ]
    }
   ],
   "source": [
    "# Listas (list)\n",
    "notas = [8.5, 7.2, 8.0, 9.5, 4.5, 5.5]\n",
    "print(notas)"
   ]
  },
  {
   "cell_type": "code",
   "execution_count": 2,
   "metadata": {
    "colab": {
     "base_uri": "https://localhost:8080/"
    },
    "id": "g7wCS2cNisl6",
    "outputId": "a1c55912-e0f8-46e5-c63f-8bb5de162118"
   },
   "outputs": [
    {
     "name": "stdout",
     "output_type": "stream",
     "text": [
      "7.2\n"
     ]
    }
   ],
   "source": [
    "# Vamos calcular algumas coisas\n",
    "# sum() - soma\n",
    "# len() -  tamanho da lista\n",
    "media = sum(notas) / len(notas)\n",
    "print(media)"
   ]
  },
  {
   "cell_type": "code",
   "execution_count": 3,
   "metadata": {
    "colab": {
     "base_uri": "https://localhost:8080/"
    },
    "id": "Ojwfv43RjQZY",
    "outputId": "6e99ec6b-da4f-44b5-d00b-baff79285e4d"
   },
   "outputs": [
    {
     "name": "stdout",
     "output_type": "stream",
     "text": [
      "Menor nota: 4.5\n",
      "Maior nota: 9.5\n"
     ]
    }
   ],
   "source": [
    "# Qual é a menor nota?\n",
    "print('Menor nota:', min(notas))\n",
    "\n",
    "# Qual é a maior nota?\n",
    "print('Maior nota:', max(notas))"
   ]
  },
  {
   "cell_type": "code",
   "execution_count": 4,
   "metadata": {
    "colab": {
     "base_uri": "https://localhost:8080/"
    },
    "id": "WEZVUh4DjnSS",
    "outputId": "718dabf5-d353-4ba5-d06b-e4d6cca4b719"
   },
   "outputs": [
    {
     "name": "stdout",
     "output_type": "stream",
     "text": [
      "8.0\n",
      "9.0\n",
      "10.0\n"
     ]
    }
   ],
   "source": [
    "# Como saber quais são as notas \"cheias\": 2.0, 8.0\n",
    "notas = [8.5, 7.2, 8.0, 9.5, 4.5, 5.5, 9.0, 9.7, 10.0]\n",
    "\n",
    "for nota in notas:\n",
    "    if (nota == int(nota)):\n",
    "        print(nota)"
   ]
  },
  {
   "cell_type": "code",
   "execution_count": 5,
   "metadata": {
    "colab": {
     "base_uri": "https://localhost:8080/"
    },
    "id": "THiyaFEok6L9",
    "outputId": "dad1a690-bf5e-41b1-e704-7c19feef03a6"
   },
   "outputs": [
    {
     "name": "stdout",
     "output_type": "stream",
     "text": [
      "8.5\n",
      "7.2\n",
      "9.5\n",
      "4.5\n",
      "5.5\n",
      "9.7\n",
      "4.98888888888889\n"
     ]
    }
   ],
   "source": [
    "# Baseado na linha acima, calcular a média das notas que não são inteiras\n",
    "soma = 0\n",
    "for nota in notas:\n",
    "    if nota != int(nota):\n",
    "        print(nota)\n",
    "        soma += nota\n",
    "\n",
    "print(soma/len(notas))"
   ]
  },
  {
   "cell_type": "code",
   "execution_count": 6,
   "metadata": {
    "colab": {
     "base_uri": "https://localhost:8080/"
    },
    "id": "-rBVEf8wtpPC",
    "outputId": "3029b958-de15-4ddd-fc52-2d6bcb603030"
   },
   "outputs": [
    {
     "name": "stdout",
     "output_type": "stream",
     "text": [
      "0 => 8.5\n",
      "1 => 7.2\n",
      "2 => 8.0\n",
      "3 => 9.5\n",
      "4 => 4.5\n",
      "5 => 5.5\n",
      "6 => 9.0\n",
      "7 => 9.7\n",
      "8 => 10.0\n"
     ]
    }
   ],
   "source": [
    "# Acessando índice e valor de uma lista no mesmo comando - enumerate()\n",
    "notas = [8.5, 7.2, 8.0, 9.5, 4.5, 5.5, 9.0, 9.7, 10.0]\n",
    "for indice, nota in enumerate(notas):\n",
    "    print(indice, '=>', nota)"
   ]
  },
  {
   "cell_type": "markdown",
   "metadata": {
    "id": "TMBpnCf3oRgZ"
   },
   "source": [
    "# Dicionários\n",
    "\n",
    "são estruturas semelhantes as listas, porém não são ordenados a sua composição é do tipo: <code>key</code>:<code>value</code>\n",
    "\n",
    "Os delimitadores de um dicionário são as chaves <code>{}</code>"
   ]
  },
  {
   "cell_type": "code",
   "execution_count": 7,
   "metadata": {
    "colab": {
     "base_uri": "https://localhost:8080/"
    },
    "id": "nHQo4Dd7l8BJ",
    "outputId": "e7f1abb5-844e-4af9-e273-52655286d3e9"
   },
   "outputs": [
    {
     "name": "stdout",
     "output_type": "stream",
     "text": [
      "{'ra': '123', 'nome': 'Edson Melo', 'idade': 50, 'formacao': 'Ciências da Computação'}\n"
     ]
    }
   ],
   "source": [
    "# O conceito de chave:valor (key:value) é o padrão JSON (Javascript Object Notation)\n",
    "# {\"id\": 10, \"name\": \"John\"}\n",
    "\n",
    "aluno = {\n",
    "    'ra': '123',\n",
    "    'nome': 'Edson Melo',\n",
    "    'idade': 50,\n",
    "    'formacao': 'Ciências da Computação'\n",
    "    }\n",
    "\n",
    "print(aluno)"
   ]
  },
  {
   "cell_type": "code",
   "execution_count": 8,
   "metadata": {
    "colab": {
     "base_uri": "https://localhost:8080/"
    },
    "id": "c10PD2wOsHAi",
    "outputId": "b26b6c2a-9a15-41a1-f305-ba1bb53036e5"
   },
   "outputs": [
    {
     "name": "stdout",
     "output_type": "stream",
     "text": [
      "RA 123\n",
      "Nome Edson Melo\n"
     ]
    }
   ],
   "source": [
    "# Acessandom um valor pela chave (key)\n",
    "print('RA', aluno['ra'])\n",
    "print('Nome', aluno['nome'])"
   ]
  },
  {
   "cell_type": "code",
   "execution_count": 9,
   "metadata": {
    "colab": {
     "base_uri": "https://localhost:8080/"
    },
    "id": "dQRlZrqgsUhN",
    "outputId": "8023fde1-9ef1-4f2c-d09c-c7fa07f0a2ec"
   },
   "outputs": [
    {
     "name": "stdout",
     "output_type": "stream",
     "text": [
      "Edson Melo\n"
     ]
    }
   ],
   "source": [
    "# Podemos acessar uma valor usando o get()\n",
    "print(aluno.get('nome'))"
   ]
  },
  {
   "cell_type": "code",
   "execution_count": 10,
   "metadata": {
    "colab": {
     "base_uri": "https://localhost:8080/"
    },
    "id": "avRybllGtDFe",
    "outputId": "ce0f9a44-3372-46f0-c2a7-1c61eb3c5ccd"
   },
   "outputs": [
    {
     "name": "stdout",
     "output_type": "stream",
     "text": [
      "ra 123\n",
      "nome Edson Melo\n",
      "idade 50\n",
      "formacao Ciências da Computação\n"
     ]
    }
   ],
   "source": [
    "# Percorrendo (é sinônimo de laço de repetição) um dicionário.\n",
    "# É mais usual dizer que vamos iterar um conjunto de dados ou iterate.\n",
    "\n",
    "chaves = aluno.keys() # pega todas as chaves do dicionário\n",
    "\n",
    "for chave in chaves:\n",
    "    print(chave, aluno[chave])"
   ]
  },
  {
   "cell_type": "code",
   "execution_count": 11,
   "metadata": {
    "colab": {
     "base_uri": "https://localhost:8080/"
    },
    "id": "y_s2gYJ9wV-T",
    "outputId": "395147d3-d4a8-425d-d443-80d7f0c395e2"
   },
   "outputs": [
    {
     "name": "stdout",
     "output_type": "stream",
     "text": [
      "ra 123\n",
      "nome Edson Melo\n",
      "idade 50\n",
      "formacao Ciências da Computação\n"
     ]
    }
   ],
   "source": [
    "# Usando o get()\n",
    "chaves = aluno.keys() # pega todas as chaves do dicionário\n",
    "\n",
    "for chave in chaves:\n",
    "    print(chave, aluno.get(chave))"
   ]
  },
  {
   "cell_type": "code",
   "execution_count": 12,
   "metadata": {
    "colab": {
     "base_uri": "https://localhost:8080/"
    },
    "id": "_cz0M3s5wqvu",
    "outputId": "5e1de44b-5e3f-4c43-87c7-a6b0c45d8609"
   },
   "outputs": [
    {
     "name": "stdout",
     "output_type": "stream",
     "text": [
      "ra 123\n",
      "nome Edson Melo\n",
      "idade 50\n",
      "formacao Ciências da Computação\n"
     ]
    }
   ],
   "source": [
    "# Iterando no dicionário de forma direta\n",
    "for chave, valor in aluno.items():\n",
    "    print(chave, valor)"
   ]
  },
  {
   "cell_type": "markdown",
   "metadata": {
    "id": "QvtEoJrnzaEa"
   },
   "source": [
    "# Operações com dicionários\n",
    "* Inclusão\n",
    "* Remoção\n",
    "* Alteração"
   ]
  },
  {
   "cell_type": "code",
   "execution_count": 13,
   "metadata": {
    "id": "8w1SPlMmz1T6"
   },
   "outputs": [],
   "source": [
    "aluno = {\n",
    "    'id': 1,\n",
    "    'nome': 'Edson Melo',\n",
    "    'idade': 50,\n",
    "    'formacao': 'Ciências da Computação'\n",
    "    }"
   ]
  },
  {
   "cell_type": "code",
   "execution_count": 14,
   "metadata": {
    "colab": {
     "base_uri": "https://localhost:8080/"
    },
    "id": "kV8Nj4scyNbM",
    "outputId": "6b807b67-8768-4b53-f575-978046f19aa1"
   },
   "outputs": [
    {
     "name": "stdout",
     "output_type": "stream",
     "text": [
      "{'id': 1, 'nome': 'Edson Melo', 'idade': 50, 'formacao': 'Ciências da Computação', 'AV1': 8.0}\n"
     ]
    }
   ],
   "source": [
    "# Incluindo dados no dicionário\n",
    "# Primeira forma\n",
    "aluno['AV1'] = 8.0\n",
    "print(aluno)"
   ]
  },
  {
   "cell_type": "code",
   "execution_count": 15,
   "metadata": {
    "colab": {
     "base_uri": "https://localhost:8080/"
    },
    "id": "kWHBXefcz_8_",
    "outputId": "8fdd9014-c58d-4007-be6f-26fc7ee3c4ba"
   },
   "outputs": [
    {
     "name": "stdout",
     "output_type": "stream",
     "text": [
      "{'id': 1, 'nome': 'Edson Melo', 'idade': 50, 'formacao': 'Ciências da Computação', 'AV1': 8.0, 'AV2': 7.5}\n"
     ]
    }
   ],
   "source": [
    "# Incluindo dados no dicionário\n",
    "# Segunda forma - update()\n",
    "# Quando usamos o update, se o valor existir será atualizado, senão será criado\n",
    "aluno.update( {'AV2': 7.5} )\n",
    "print(aluno)"
   ]
  },
  {
   "cell_type": "code",
   "execution_count": 16,
   "metadata": {
    "colab": {
     "base_uri": "https://localhost:8080/"
    },
    "id": "l6RPBqhs0seg",
    "outputId": "4bc70c72-5c12-4145-9637-73d58af3818d"
   },
   "outputs": [
    {
     "name": "stdout",
     "output_type": "stream",
     "text": [
      "{'id': 1, 'nome': 'Edson Melo', 'idade': 50, 'formacao': 'Ciências da Computação', 'AV1': 6.0, 'AV2': 9.5}\n"
     ]
    }
   ],
   "source": [
    "# Atualizar as notas AV1 para 6.0 e AV2 para 9.5\n",
    "aluno.update( {'AV1': 6.0, 'AV2': 9.5} )\n",
    "print(aluno)"
   ]
  },
  {
   "cell_type": "code",
   "execution_count": 17,
   "metadata": {
    "colab": {
     "base_uri": "https://localhost:8080/"
    },
    "id": "zhDUKN6s1S7G",
    "outputId": "2e9469d1-9bfe-416b-cf9a-1cf4d832914c"
   },
   "outputs": [
    {
     "name": "stdout",
     "output_type": "stream",
     "text": [
      "23\n"
     ]
    }
   ],
   "source": [
    "# Treinando um pouco\n",
    "# Criar um dicionário com as seguintes entradas: id, nome, email\n",
    "# Mostrar na saída apenas o valor da chave 'id'\n",
    "\n",
    "student = {\n",
    "    'id': 23,\n",
    "    'nome': 'ciclano',\n",
    "    'email':'ciclano@gmail.com'\n",
    "}\n",
    "print(student.get('id'))"
   ]
  },
  {
   "cell_type": "code",
   "execution_count": 18,
   "metadata": {
    "colab": {
     "base_uri": "https://localhost:8080/"
    },
    "id": "796CSdTW3C8G",
    "outputId": "7aa1d1e5-1a9c-4408-a1b9-9ad72eb78027"
   },
   "outputs": [
    {
     "data": {
      "text/plain": [
       "True"
      ]
     },
     "execution_count": 18,
     "metadata": {},
     "output_type": "execute_result"
    }
   ],
   "source": [
    "# Buscas em dicionário\n",
    "'AV1' in aluno"
   ]
  },
  {
   "cell_type": "code",
   "execution_count": 19,
   "metadata": {
    "colab": {
     "base_uri": "https://localhost:8080/"
    },
    "id": "Qt7dWXAP3RO1",
    "outputId": "7e314205-dce8-45a7-9129-c9ccd202cc56"
   },
   "outputs": [
    {
     "data": {
      "text/plain": [
       "True"
      ]
     },
     "execution_count": 19,
     "metadata": {},
     "output_type": "execute_result"
    }
   ],
   "source": [
    "'AV3' not in aluno"
   ]
  },
  {
   "cell_type": "markdown",
   "metadata": {
    "id": "i-YBO01d3k0_"
   },
   "source": [
    "# Integrando Dicionários com Listas"
   ]
  },
  {
   "cell_type": "code",
   "execution_count": 21,
   "metadata": {
    "colab": {
     "base_uri": "https://localhost:8080/"
    },
    "id": "cMq2NWv63gAI",
    "outputId": "cb67d73c-bebe-4c11-95e3-230efd04d4bd"
   },
   "outputs": [
    {
     "name": "stdout",
     "output_type": "stream",
     "text": [
      "{'id': 1, 'name': 'Edson', 'grades': [{'AV1': 3.0, 'AV2': 2.0, 'AV3': 8.5}, {'AV1': 8.0, 'AV2': 5.0, 'AV3': 4.5}, {'AV1': 7.0, 'AV2': 9.0, 'AV3': 2.5}]}\n"
     ]
    }
   ],
   "source": [
    "exemplo = {\n",
    "    'id': 1, 'name': 'Edson', 'grades': [\n",
    "                                         {'AV1': 3.0, 'AV2': 2.0, 'AV3': 8.5},\n",
    "                                         {'AV1': 8.0, 'AV2': 5.0, 'AV3': 4.5},\n",
    "                                         {'AV1': 7.0, 'AV2': 9.0, 'AV3': 2.5}\n",
    "                                         ]\n",
    "    }\n",
    "\n",
    "print(exemplo)"
   ]
  },
  {
   "cell_type": "code",
   "execution_count": 22,
   "metadata": {
    "colab": {
     "base_uri": "https://localhost:8080/"
    },
    "id": "LBYu0RYx36in",
    "outputId": "5a9912af-2702-4d66-fc34-c8f8d53a36a1"
   },
   "outputs": [
    {
     "data": {
      "text/plain": [
       "[{'AV1': 3.0, 'AV2': 2.0, 'AV3': 8.5},\n",
       " {'AV1': 8.0, 'AV2': 5.0, 'AV3': 4.5},\n",
       " {'AV1': 7.0, 'AV2': 9.0, 'AV3': 2.5}]"
      ]
     },
     "execution_count": 22,
     "metadata": {},
     "output_type": "execute_result"
    }
   ],
   "source": [
    "exemplo.get('grades')"
   ]
  },
  {
   "cell_type": "code",
   "execution_count": 23,
   "metadata": {
    "colab": {
     "base_uri": "https://localhost:8080/"
    },
    "id": "0djAlp2w6GHx",
    "outputId": "c20f9783-5cf0-4081-eadb-966ef1b2b9f6"
   },
   "outputs": [
    {
     "name": "stdout",
     "output_type": "stream",
     "text": [
      "[{'id': 1, 'nome': 'Edson Melo'}, {'id': 2, 'nome': 'Ricardo Macedo'}]\n"
     ]
    }
   ],
   "source": [
    "# Criando uma lista de dicionários\n",
    "alunos = [] # lista vazia\n",
    "alunos.append({'id': 1, 'nome': 'Edson Melo'})\n",
    "alunos.append({'id': 2, 'nome': 'Ricardo Macedo'})\n",
    "print(alunos)"
   ]
  },
  {
   "cell_type": "code",
   "execution_count": 24,
   "metadata": {
    "colab": {
     "base_uri": "https://localhost:8080/"
    },
    "id": "q4X7dhYx62Ke",
    "outputId": "4100844d-1629-4c54-d8c9-27d4f5389298"
   },
   "outputs": [
    {
     "name": "stdout",
     "output_type": "stream",
     "text": [
      "id => 1\n",
      "nome => Edson Melo\n",
      "\n",
      "id => 2\n",
      "nome => Ricardo Macedo\n",
      "\n"
     ]
    }
   ],
   "source": [
    "# Iterando nossos alunos\n",
    "# {'chave' : 'valor'}\n",
    "\n",
    "for entrada in alunos:\n",
    "    for chave, valor in entrada.items():\n",
    "        print(chave, '=>', valor)\n",
    "    print()"
   ]
  },
  {
   "cell_type": "code",
   "execution_count": 25,
   "metadata": {
    "colab": {
     "base_uri": "https://localhost:8080/"
    },
    "id": "Hj1yz46G7Per",
    "outputId": "cec49e7d-ac8e-403f-e812-a40afcf04ded"
   },
   "outputs": [
    {
     "name": "stdout",
     "output_type": "stream",
     "text": [
      "id: 1\n",
      "\n",
      "id: 2\n",
      "\n"
     ]
    }
   ],
   "source": [
    "# Exemplo com get()\n",
    "for entrada in alunos:\n",
    "    for aluno in [entrada]:\n",
    "        print('id:', aluno.get('id'))\n",
    "    print()"
   ]
  },
  {
   "cell_type": "markdown",
   "metadata": {},
   "source": [
    "1. Utilizandos os conceitos vistos nesta aula e na aula anterior, crie um dicionário com 5 alunos que mostre:<br>\n",
    "<ul>\n",
    "    <li>Maior nota</li>\n",
    "    <li>Menor nota</li>\n",
    "    <li>Média dos alunos</li>\n",
    "</ul>"
   ]
  },
  {
   "cell_type": "code",
   "execution_count": 26,
   "metadata": {
    "id": "1OQVOCXa-nkY"
   },
   "outputs": [],
   "source": [
    "# Treinando\n",
    "# Utilizando os conceitos vistos nesta aula e na aula anterior,\n",
    "# crie um dicionário com 5 alunos que mostre:\n",
    "# Maior nota\n",
    "# Menor nota\n",
    "# Média dos alunos\n",
    "alunos = []\n",
    "alunos.append({'nome': 'Aluno 01', 'curso': 'Ciências da Computação', 'AV1':8 })\n",
    "alunos.append({'nome': 'Aluno 02', 'curso': 'Sistemas de Informação', 'AV1':7 })\n",
    "alunos.append({'nome': 'Aluno 03', 'curso': 'Sistemas de Informação', 'AV1':6 })\n",
    "alunos.append({'nome': 'Aluno 04', 'curso': 'Sistemas de Informação', 'AV1':6 })\n",
    "alunos.append({'nome': 'Aluno 05', 'curso': 'Sistemas de Informação', 'AV1':6 })"
   ]
  },
  {
   "cell_type": "code",
   "execution_count": 36,
   "metadata": {
    "colab": {
     "base_uri": "https://localhost:8080/"
    },
    "id": "QaoIYOUt_SIT",
    "outputId": "cce58acd-55e4-421e-b2dc-0d2c630a1d10"
   },
   "outputs": [],
   "source": [
    "# Resolução\n",
    "media = 0\n",
    "notas = []\n",
    "\n",
    "for entrada in alunos:\n",
    "    for aluno in entrada.keys():\n",
    "        if aluno == 'AV1':\n",
    "            media += entrada[aluno]\n",
    "            notas = notas + [ entrada[aluno] ]"
   ]
  },
  {
   "cell_type": "code",
   "execution_count": 37,
   "metadata": {},
   "outputs": [
    {
     "name": "stdout",
     "output_type": "stream",
     "text": [
      "Notas Gerais\n",
      "A MAIOR nota é.....: 8\n",
      "A MENOR nota é.....: 6\n",
      "A MÉDIA das notas é: 6.6\n"
     ]
    }
   ],
   "source": [
    "print('Notas Gerais')\n",
    "print('A MAIOR nota é.....:', max(notas))\n",
    "print('A MENOR nota é.....:', min(notas))\n",
    "print('A MÉDIA das notas é:', round(media/len(notas),2))"
   ]
  },
  {
   "cell_type": "markdown",
   "metadata": {
    "id": "wFZHB3t0AlRE"
   },
   "source": [
    "2. Utilizando os mesmos dados, mostre os resultados de forma individual para cada curso.\n",
    "3. **Desafio**: Desenvolva um algoritmo que permita mostrar **de uma só vez** os resultados para os respectivos cursos"
   ]
  },
  {
   "cell_type": "code",
   "execution_count": 38,
   "metadata": {},
   "outputs": [],
   "source": [
    "alunos = []\n",
    "alunos.append({'nome': 'Aluno 01', 'curso': 'Ciências da Computação', 'AV1':8 })\n",
    "alunos.append({'nome': 'Aluno 02', 'curso': 'Sistemas de Informação', 'AV1':7 })\n",
    "alunos.append({'nome': 'Aluno 03', 'curso': 'Sistemas de Informação', 'AV1':6 })\n",
    "alunos.append({'nome': 'Aluno 04', 'curso': 'Sistemas de Informação', 'AV1':6 })\n",
    "alunos.append({'nome': 'Aluno 05', 'curso': 'Sistemas de Informação', 'AV1':6 })\n",
    "alunos.append({'nome': 'Aluno 06', 'curso': 'Análise e Desenvolvimento de Sistemas', 'AV1':7 })\n",
    "alunos.append({'nome': 'Aluno 07', 'curso': 'Análise e Desenvolvimento de Sistemas', 'AV1':9 })\n",
    "alunos.append({'nome': 'Aluno 08', 'curso': 'Ciências da Computação', 'AV1':10 })\n",
    "alunos.append({'nome': 'Aluno 09', 'curso': 'Ciências da Computação', 'AV1':10 })\n",
    "alunos.append({'nome': 'Aluno 10', 'curso': 'Ciências da Computação', 'AV1':4 })\n",
    "alunos.append({'nome': 'Aluno 11', 'curso': 'Análise e Desenvolvimento de Sistemas', 'AV1':5 })\n",
    "alunos.append({'nome': 'Aluno 11', 'curso': 'Análise e Desenvolvimento de Sistemas', 'AV1':5 })\n",
    "alunos.append({'nome': 'Aluno 12', 'curso': 'Análise e Desenvolvimento de Sistemas', 'AV1':9 })\n",
    "alunos.append({'nome': 'Aluno 13', 'curso': 'Análise e Desenvolvimento de Sistemas', 'AV1':9 })\n",
    "alunos.append({'nome': 'Aluno 14', 'curso': 'Ciências da Computação', 'AV1': 7})\n",
    "alunos.append({'nome': 'Aluno 15', 'curso': 'Análise e Desenvolvimento de Sistemas', 'AV1':7})\n",
    "alunos.append({'nome': 'Aluno 16', 'curso': 'Ciências da Computação', 'AV1': 6})\n",
    "alunos.append({'nome': 'Aluno 17', 'curso': 'Análise e Desenvolvimento de Sistemas', 'AV1':8 })\n",
    "alunos.append({'nome': 'Aluno 18', 'curso': 'Ciências da Computação', 'AV1':4 })\n",
    "alunos.append({'nome': 'Aluno 19', 'curso': 'Sistemas de Informação', 'AV1':2 })\n",
    "alunos.append({'nome': 'Aluno 20', 'curso': 'Análise e Desenvolvimento de Sistemas', 'AV1':9 })"
   ]
  },
  {
   "cell_type": "markdown",
   "metadata": {},
   "source": [
    "# Resolução"
   ]
  },
  {
   "cell_type": "markdown",
   "metadata": {},
   "source": [
    "### Notas Gerais"
   ]
  },
  {
   "cell_type": "code",
   "execution_count": 40,
   "metadata": {},
   "outputs": [],
   "source": [
    "# Saída\n",
    "# # Notas Gerais\n",
    "# A MAIOR nota é.....: 10\n",
    "# A MENOR nota é.....: 2\n",
    "# A MÉDIA das notas é: 6.86"
   ]
  },
  {
   "cell_type": "markdown",
   "metadata": {},
   "source": [
    "# Somente Ciências da Computação"
   ]
  },
  {
   "cell_type": "code",
   "execution_count": 41,
   "metadata": {},
   "outputs": [],
   "source": [
    "# A MAIOR nota é.....: 10\n",
    "# A MENOR nota é.....: 4\n",
    "# A MÉDIA das notas é: 7.0"
   ]
  },
  {
   "cell_type": "markdown",
   "metadata": {},
   "source": [
    "# Somente Análise e Desenvolvimento de Sistemas"
   ]
  },
  {
   "cell_type": "code",
   "execution_count": 42,
   "metadata": {},
   "outputs": [],
   "source": [
    "# A MAIOR nota é.....: 9\n",
    "# A MENOR nota é.....: 5\n",
    "# A MÉDIA das notas é: 7.56"
   ]
  },
  {
   "cell_type": "markdown",
   "metadata": {},
   "source": [
    "# Somente Sistemas de Informação"
   ]
  },
  {
   "cell_type": "code",
   "execution_count": 43,
   "metadata": {},
   "outputs": [],
   "source": [
    "# A MAIOR notas é....: 7\n",
    "# A MENOR nota é.....: 2\n",
    "# A MÉDIA das notas é: 5.4"
   ]
  },
  {
   "cell_type": "markdown",
   "metadata": {},
   "source": [
    "# Desafio\n",
    "Construa um algortimo que mostre de **uma só vez** os resultados para os respectivos cursos"
   ]
  },
  {
   "cell_type": "code",
   "execution_count": 44,
   "metadata": {},
   "outputs": [],
   "source": [
    "# Curso: Análise e Desenvolvimento de Sistemas [7, 9, 5, 5, 9, 9, 7, 8, 9]\n",
    "# A MAIOR nota é.....: 9\n",
    "# A MENOR nota é.....: 5\n",
    "# A MÉDIA das notas é: 7.56\n",
    "\n",
    "# Curso: Ciências da Computação [8, 10, 10, 4, 7, 6, 4]\n",
    "# A MAIOR nota é.....: 10\n",
    "# A MENOR nota é.....: 4\n",
    "# A MÉDIA das notas é: 7.0\n",
    "\n",
    "# Curso: Sistemas de Informação [7, 6, 6, 6, 2]\n",
    "# A MAIOR nota é.....: 7\n",
    "# A MENOR nota é.....: 2\n",
    "# A MÉDIA das notas é: 5.4"
   ]
  },
  {
   "cell_type": "code",
   "execution_count": null,
   "metadata": {},
   "outputs": [],
   "source": []
  }
 ],
 "metadata": {
  "colab": {
   "collapsed_sections": [],
   "name": "aula_090402021",
   "provenance": []
  },
  "kernelspec": {
   "display_name": "Python 3",
   "language": "python",
   "name": "python3"
  },
  "language_info": {
   "codemirror_mode": {
    "name": "ipython",
    "version": 3
   },
   "file_extension": ".py",
   "mimetype": "text/x-python",
   "name": "python",
   "nbconvert_exporter": "python",
   "pygments_lexer": "ipython3",
   "version": "3.8.5"
  }
 },
 "nbformat": 4,
 "nbformat_minor": 4
}
